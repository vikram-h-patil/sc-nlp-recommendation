{
 "cells": [
  {
   "cell_type": "markdown",
   "metadata": {},
   "source": [
    "### Author - Vikram Patil\n",
    "\n",
    "##### Environment: Python 3.6.1 and Jupyter notebook"
   ]
  },
  {
   "cell_type": "markdown",
   "metadata": {},
   "source": [
    "# Table of contents\n",
    "#### 1.1 [Importing libraries](#library)\n",
    "#### 1.2. [Load and process the data](#loadnprocess)      \n",
    "* ####     1.2.1 [Load data](#load)\n",
    "* ####     1.2.2 [Process data](#process)\n",
    "\n",
    "\n",
    "#### 1.3. [Exploratory data analysis & Cleaning](#eda)\n",
    "* ####      1.3.1 [Checking nulls](#null)\n",
    "* ####      1.3.2 [Checklist name - replacing all duplicates names with original](#checknameduplicates)\n",
    "* ####      1.3.3 [Checklist name - removing names with more than 100characters](#checkname100)\n",
    "* ####      1.3.4 [removing names which has blank values; example '..'](#checknameblank)\n",
    "\n",
    "#### 1.4. [Creating checklist template corpus for recommendation](#corpus)\n",
    "* ####      1.4.1 [Combine header_label,header_type,item_lable and item_type columns](#combine)\n",
    "* ####      1.4.2 [Clean the text](#cleantext)\n",
    "* ####      1.4.3 [Feature creation using TF-IDF approach](#feature)\n",
    "* ####      1.4.4 [Using cosine_similarity, predicting recommendation of check-list names per industry](#cosine)\n",
    "\n",
    "#### ------------------------------------------------------------------------------------------------------------------------------------------------------------------------------------------------------------------\n",
    "\n",
    "#### [Question 2) - Suggestion on potential checklist items for a checklist name](#q2)\n",
    "\n",
    "* ####      2.1 [Identify clusters](#2.1)\n",
    "* ####      2.2 [Pre-process item-label column](#2.2)\n",
    "* ####      2.3 [TF_IDF is applied and K-means clsutering technique is used to cluster the data](#2.3)\n",
    "* ####      2.4 [Prediction on test data](#2.4)\n",
    "\n",
    "\n",
    "#### ------------------------------------------------------------------------------------------------------------------------------------------------------------------------------------------------------------------\n",
    "\n",
    "#### [Q3 - To find the potential risks between the checklist items](#q3)\n",
    "* ####      3.1 [Column Item-label is selected and Text processing is applied, item-label is further cleaned](#3.1)\n",
    "* ####      3.2 [TF-IDF is applied to generate the Bigram - features](#3.2)\n",
    "* ####      3.3 [Correlation matrix is calculated for each bigram](#3.3)\n",
    "* ####      3.4 [Sample output](#3.4)\n",
    "\n",
    "#### ------------------------------------------------------------------------------------------------------------------------------------------------------------------------------------------------------------------"
   ]
  },
  {
   "cell_type": "markdown",
   "metadata": {},
   "source": [
    "## 1.1 Importing libraries <a name=\"library\"></a>"
   ]
  },
  {
   "cell_type": "code",
   "execution_count": 2,
   "metadata": {},
   "outputs": [
    {
     "name": "stderr",
     "output_type": "stream",
     "text": [
      "C:\\Users\\vikra\\AppData\\Roaming\\Python\\Python36\\site-packages\\statsmodels\\tools\\_testing.py:19: FutureWarning: pandas.util.testing is deprecated. Use the functions in the public API at pandas.testing instead.\n",
      "  import pandas.util.testing as tm\n"
     ]
    }
   ],
   "source": [
    "import json\n",
    "import pandas as pd\n",
    "from pandas.io.json import json_normalize\n",
    "import warnings\n",
    "from functools import reduce\n",
    "import numpy as np\n",
    "import nltk\n",
    "import re\n",
    "import string\n",
    "import matplotlib.pyplot as plt\n",
    "import seaborn as sns\n",
    "warnings.filterwarnings(\"ignore\")\n",
    "\n",
    "pd.options.display.max_rows=100"
   ]
  },
  {
   "cell_type": "markdown",
   "metadata": {},
   "source": [
    "#### ------------------------------------------------------------------------------------------------------------------------------------------------------------------------------------------------------------------\n"
   ]
  },
  {
   "cell_type": "markdown",
   "metadata": {},
   "source": [
    "## 1.2  Load and process data<a name=\"loadnprocess\"></a>\n",
    "\n",
    "### 1.2.1 Load the data<a name=\"load\"></a>"
   ]
  },
  {
   "cell_type": "code",
   "execution_count": 3,
   "metadata": {},
   "outputs": [],
   "source": [
    "json_file_path=\"sample_pl_data.json\"\n",
    "\n",
    "\n",
    "with open(json_file_path, 'r') as file:\n",
    "     contents = json.loads(file.read())"
   ]
  },
  {
   "cell_type": "markdown",
   "metadata": {},
   "source": [
    "### 1.2.2 Process the data<a name=\"process\"></a>"
   ]
  },
  {
   "cell_type": "code",
   "execution_count": 4,
   "metadata": {},
   "outputs": [],
   "source": [
    "#--------------------------\n",
    "# Parsing JSON data\n",
    "#--------------------------\n",
    "\n",
    "def find_info(data,temp_type):\n",
    "    \"\"\" \n",
    "    This function parses the json and finds the required data such as metadata, metrics, item and header\n",
    "    \n",
    "    input = json data and required template_type (metadata, metrics, item and header)\n",
    "    output = respective template_type dataframe\n",
    "    \"\"\"\n",
    "    \n",
    "    if temp_type ==\"metadata\":\n",
    "        test = pd.io.json.json_normalize(data, record_path=[['template_data','metadata']],\\\n",
    "                                  meta=['template_id','name',['template_data','metadata']],\\\n",
    "                                 errors='ignore')\n",
    "        test = test.join(json_normalize(test[\"template_data.metadata\"].tolist()).add_prefix(\"metadata.\")).\\\n",
    "        drop([\"template_data.metadata\"], axis=1)\n",
    "        test = test[['template_id','name','metadata.industry','metadata.subindustry','metadata.name']]\n",
    "        \n",
    "        \n",
    "    if temp_type==\"metrics\":\n",
    "        test = pd.io.json.json_normalize(data, record_path=[['template_data','metrics']],\\\n",
    "                              meta=['template_id','name',['template_data','metrics']],\\\n",
    "                             errors='ignore')\n",
    "        test = test.join(json_normalize(test[\"template_data.metrics\"].tolist()).add_prefix(\"metrics.\"))\\\n",
    "                .drop([\"template_data.metrics\",\"metrics.duration_count\",\"metrics.est_duration\",\\\n",
    "                     \"metrics.date_last_used\",\"metrics.avg_duration\"], axis=1)\n",
    "        test.drop([0], axis = 1,inplace=True) \n",
    "        \n",
    "    \n",
    "    if temp_type==\"item\":\n",
    "        test = pd.io.json.json_normalize(data, record_path=[['items']],\\\n",
    "                          meta=['template_id','name'],\\\n",
    "                         errors='ignore')\n",
    "        test = test[['template_id','name','item_id','parent_id','type','label']]\n",
    "        test.rename(columns={'type':'item_type','label':'item_label','parent_id':'item_parent_id'},inplace=True)\n",
    "        \n",
    "        \n",
    "    if temp_type==\"header\":\n",
    "        test = pd.io.json.json_normalize(data, record_path=[['header']],\\\n",
    "                          meta=['template_id','name'],\\\n",
    "                         errors='ignore')\n",
    "        test = test[['template_id','name','item_id','parent_id','type','label']]\n",
    "        test.rename(columns={'type':'header_type','label':'header_label','parent_id':'header_parent_id',\\\n",
    "                            'item_id':'header_id'},inplace=True)\n",
    "        \n",
    "    return test"
   ]
  },
  {
   "cell_type": "code",
   "execution_count": 5,
   "metadata": {},
   "outputs": [],
   "source": [
    "metric_df = find_info(contents,\"metrics\")\n",
    "metadata_df = find_info(contents,\"metadata\")\n",
    "item_df = find_info(contents,\"item\")\n",
    "header_df = find_info(contents,\"header\")"
   ]
  },
  {
   "cell_type": "markdown",
   "metadata": {},
   "source": [
    "#### Four dataframe are merged to form final dataframe"
   ]
  },
  {
   "cell_type": "code",
   "execution_count": 6,
   "metadata": {},
   "outputs": [],
   "source": [
    "def merge_df(df1,df2,df3,df4):\n",
    "    merge_df=df1.merge(df2.drop_duplicates(),on=['template_id','name'],how=\"left\")\n",
    "    merge_df=merge_df.merge(df3.drop_duplicates(),on=['template_id','name'],how=\"left\")\n",
    "    merge_df=merge_df.merge(df4.drop_duplicates(),on=['template_id','name'],how=\"left\")\n",
    "    merge_df.reset_index(inplace=True,drop=True)\n",
    "    return merge_df"
   ]
  },
  {
   "cell_type": "code",
   "execution_count": 7,
   "metadata": {},
   "outputs": [
    {
     "data": {
      "text/plain": [
       "(118801, 15)"
      ]
     },
     "execution_count": 7,
     "metadata": {},
     "output_type": "execute_result"
    }
   ],
   "source": [
    "# merging all four dataframes\n",
    "dff = merge_df(item_df,metadata_df,header_df,metric_df)\n",
    "dff.shape"
   ]
  },
  {
   "cell_type": "code",
   "execution_count": 8,
   "metadata": {},
   "outputs": [
    {
     "data": {
      "text/html": [
       "<div>\n",
       "<style scoped>\n",
       "    .dataframe tbody tr th:only-of-type {\n",
       "        vertical-align: middle;\n",
       "    }\n",
       "\n",
       "    .dataframe tbody tr th {\n",
       "        vertical-align: top;\n",
       "    }\n",
       "\n",
       "    .dataframe thead th {\n",
       "        text-align: right;\n",
       "    }\n",
       "</style>\n",
       "<table border=\"1\" class=\"dataframe\">\n",
       "  <thead>\n",
       "    <tr style=\"text-align: right;\">\n",
       "      <th></th>\n",
       "      <th>template_id</th>\n",
       "      <th>name</th>\n",
       "      <th>item_id</th>\n",
       "      <th>item_parent_id</th>\n",
       "      <th>item_type</th>\n",
       "      <th>item_label</th>\n",
       "      <th>metadata.industry</th>\n",
       "      <th>metadata.subindustry</th>\n",
       "      <th>metadata.name</th>\n",
       "      <th>header_id</th>\n",
       "      <th>header_parent_id</th>\n",
       "      <th>header_type</th>\n",
       "      <th>header_label</th>\n",
       "      <th>metrics.use_count</th>\n",
       "      <th>metrics.rating</th>\n",
       "    </tr>\n",
       "  </thead>\n",
       "  <tbody>\n",
       "    <tr>\n",
       "      <th>0</th>\n",
       "      <td>template_65db0caaac874d08ae7e7d15d05b5c7c</td>\n",
       "      <td>All items - duplicate</td>\n",
       "      <td>95594086-34f0-4680-b43b-78fa330c70a0</td>\n",
       "      <td>None</td>\n",
       "      <td>section</td>\n",
       "      <td>Audit</td>\n",
       "      <td>-2</td>\n",
       "      <td>-2</td>\n",
       "      <td>All items - duplicate</td>\n",
       "      <td>6f6f5e7f-9787-4a06-a4bc-7baf1c5f23b3</td>\n",
       "      <td>None</td>\n",
       "      <td>section</td>\n",
       "      <td>Title Page</td>\n",
       "      <td>12</td>\n",
       "      <td>-1</td>\n",
       "    </tr>\n",
       "    <tr>\n",
       "      <th>1</th>\n",
       "      <td>template_65db0caaac874d08ae7e7d15d05b5c7c</td>\n",
       "      <td>All items - duplicate</td>\n",
       "      <td>95594086-34f0-4680-b43b-78fa330c70a0</td>\n",
       "      <td>None</td>\n",
       "      <td>section</td>\n",
       "      <td>Audit</td>\n",
       "      <td>-2</td>\n",
       "      <td>-2</td>\n",
       "      <td>All items - duplicate</td>\n",
       "      <td>f3245d46-ea77-11e1-aff1-0800200c9a66</td>\n",
       "      <td>6f6f5e7f-9787-4a06-a4bc-7baf1c5f23b3</td>\n",
       "      <td>textsingle</td>\n",
       "      <td>Document No.</td>\n",
       "      <td>12</td>\n",
       "      <td>-1</td>\n",
       "    </tr>\n",
       "    <tr>\n",
       "      <th>2</th>\n",
       "      <td>template_65db0caaac874d08ae7e7d15d05b5c7c</td>\n",
       "      <td>All items - duplicate</td>\n",
       "      <td>95594086-34f0-4680-b43b-78fa330c70a0</td>\n",
       "      <td>None</td>\n",
       "      <td>section</td>\n",
       "      <td>Audit</td>\n",
       "      <td>-2</td>\n",
       "      <td>-2</td>\n",
       "      <td>All items - duplicate</td>\n",
       "      <td>f3245d40-ea77-11e1-aff1-0800200c9a66</td>\n",
       "      <td>6f6f5e7f-9787-4a06-a4bc-7baf1c5f23b3</td>\n",
       "      <td>textsingle</td>\n",
       "      <td>Audit Title</td>\n",
       "      <td>12</td>\n",
       "      <td>-1</td>\n",
       "    </tr>\n",
       "    <tr>\n",
       "      <th>3</th>\n",
       "      <td>template_65db0caaac874d08ae7e7d15d05b5c7c</td>\n",
       "      <td>All items - duplicate</td>\n",
       "      <td>95594086-34f0-4680-b43b-78fa330c70a0</td>\n",
       "      <td>None</td>\n",
       "      <td>section</td>\n",
       "      <td>Audit</td>\n",
       "      <td>-2</td>\n",
       "      <td>-2</td>\n",
       "      <td>All items - duplicate</td>\n",
       "      <td>f3245d41-ea77-11e1-aff1-0800200c9a66</td>\n",
       "      <td>6f6f5e7f-9787-4a06-a4bc-7baf1c5f23b3</td>\n",
       "      <td>textsingle</td>\n",
       "      <td>Client / Site</td>\n",
       "      <td>12</td>\n",
       "      <td>-1</td>\n",
       "    </tr>\n",
       "    <tr>\n",
       "      <th>4</th>\n",
       "      <td>template_65db0caaac874d08ae7e7d15d05b5c7c</td>\n",
       "      <td>All items - duplicate</td>\n",
       "      <td>95594086-34f0-4680-b43b-78fa330c70a0</td>\n",
       "      <td>None</td>\n",
       "      <td>section</td>\n",
       "      <td>Audit</td>\n",
       "      <td>-2</td>\n",
       "      <td>-2</td>\n",
       "      <td>All items - duplicate</td>\n",
       "      <td>f3245d42-ea77-11e1-aff1-0800200c9a66</td>\n",
       "      <td>6f6f5e7f-9787-4a06-a4bc-7baf1c5f23b3</td>\n",
       "      <td>datetime</td>\n",
       "      <td>Conducted on</td>\n",
       "      <td>12</td>\n",
       "      <td>-1</td>\n",
       "    </tr>\n",
       "  </tbody>\n",
       "</table>\n",
       "</div>"
      ],
      "text/plain": [
       "                                 template_id                   name  \\\n",
       "0  template_65db0caaac874d08ae7e7d15d05b5c7c  All items - duplicate   \n",
       "1  template_65db0caaac874d08ae7e7d15d05b5c7c  All items - duplicate   \n",
       "2  template_65db0caaac874d08ae7e7d15d05b5c7c  All items - duplicate   \n",
       "3  template_65db0caaac874d08ae7e7d15d05b5c7c  All items - duplicate   \n",
       "4  template_65db0caaac874d08ae7e7d15d05b5c7c  All items - duplicate   \n",
       "\n",
       "                                item_id item_parent_id item_type item_label  \\\n",
       "0  95594086-34f0-4680-b43b-78fa330c70a0           None   section      Audit   \n",
       "1  95594086-34f0-4680-b43b-78fa330c70a0           None   section      Audit   \n",
       "2  95594086-34f0-4680-b43b-78fa330c70a0           None   section      Audit   \n",
       "3  95594086-34f0-4680-b43b-78fa330c70a0           None   section      Audit   \n",
       "4  95594086-34f0-4680-b43b-78fa330c70a0           None   section      Audit   \n",
       "\n",
       "   metadata.industry  metadata.subindustry          metadata.name  \\\n",
       "0                 -2                    -2  All items - duplicate   \n",
       "1                 -2                    -2  All items - duplicate   \n",
       "2                 -2                    -2  All items - duplicate   \n",
       "3                 -2                    -2  All items - duplicate   \n",
       "4                 -2                    -2  All items - duplicate   \n",
       "\n",
       "                              header_id                      header_parent_id  \\\n",
       "0  6f6f5e7f-9787-4a06-a4bc-7baf1c5f23b3                                  None   \n",
       "1  f3245d46-ea77-11e1-aff1-0800200c9a66  6f6f5e7f-9787-4a06-a4bc-7baf1c5f23b3   \n",
       "2  f3245d40-ea77-11e1-aff1-0800200c9a66  6f6f5e7f-9787-4a06-a4bc-7baf1c5f23b3   \n",
       "3  f3245d41-ea77-11e1-aff1-0800200c9a66  6f6f5e7f-9787-4a06-a4bc-7baf1c5f23b3   \n",
       "4  f3245d42-ea77-11e1-aff1-0800200c9a66  6f6f5e7f-9787-4a06-a4bc-7baf1c5f23b3   \n",
       "\n",
       "  header_type   header_label  metrics.use_count  metrics.rating  \n",
       "0     section     Title Page                 12              -1  \n",
       "1  textsingle   Document No.                 12              -1  \n",
       "2  textsingle    Audit Title                 12              -1  \n",
       "3  textsingle  Client / Site                 12              -1  \n",
       "4    datetime   Conducted on                 12              -1  "
      ]
     },
     "execution_count": 8,
     "metadata": {},
     "output_type": "execute_result"
    }
   ],
   "source": [
    "# printing sample output\n",
    "dff.head()"
   ]
  },
  {
   "cell_type": "code",
   "execution_count": 9,
   "metadata": {},
   "outputs": [],
   "source": [
    "df=dff.copy()  # saving a copy of final dataframe"
   ]
  },
  {
   "cell_type": "markdown",
   "metadata": {},
   "source": [
    "#### ------------------------------------------------------------------------------------------------------------------------------------------------------------------------------------------------------------------\n"
   ]
  },
  {
   "cell_type": "markdown",
   "metadata": {},
   "source": [
    "## 1.3 Exploratory Data analysis & Cleaning<a name=\"eda\"></a>\n"
   ]
  },
  {
   "cell_type": "code",
   "execution_count": 10,
   "metadata": {},
   "outputs": [
    {
     "data": {
      "text/plain": [
       "template_id             object\n",
       "name                    object\n",
       "item_id                 object\n",
       "item_parent_id          object\n",
       "item_type               object\n",
       "item_label              object\n",
       "metadata.industry        int64\n",
       "metadata.subindustry     int64\n",
       "metadata.name           object\n",
       "header_id               object\n",
       "header_parent_id        object\n",
       "header_type             object\n",
       "header_label            object\n",
       "metrics.use_count        int64\n",
       "metrics.rating           int64\n",
       "dtype: object"
      ]
     },
     "execution_count": 10,
     "metadata": {},
     "output_type": "execute_result"
    }
   ],
   "source": [
    "df.dtypes"
   ]
  },
  {
   "cell_type": "markdown",
   "metadata": {},
   "source": [
    "### 1.3.1 Checking for any nulls present<a name=\"null\"></a>"
   ]
  },
  {
   "cell_type": "code",
   "execution_count": 11,
   "metadata": {},
   "outputs": [
    {
     "data": {
      "text/plain": [
       "template_id                0\n",
       "name                      56\n",
       "item_id                    0\n",
       "item_parent_id          2599\n",
       "item_type                  0\n",
       "item_label              7690\n",
       "metadata.industry          0\n",
       "metadata.subindustry       0\n",
       "metadata.name              0\n",
       "header_id                  0\n",
       "header_parent_id        6326\n",
       "header_type                0\n",
       "header_label            1135\n",
       "metrics.use_count          0\n",
       "metrics.rating             0\n",
       "dtype: int64"
      ]
     },
     "execution_count": 11,
     "metadata": {},
     "output_type": "execute_result"
    }
   ],
   "source": [
    "df.isnull().sum()"
   ]
  },
  {
   "cell_type": "markdown",
   "metadata": {},
   "source": [
    "#### removing any blank spaces and removing all nulls present"
   ]
  },
  {
   "cell_type": "code",
   "execution_count": 12,
   "metadata": {},
   "outputs": [],
   "source": [
    "df= df.replace(r'^\\s*$', np.nan, regex=True) # replace blank spaces with null values\n",
    "df = df.dropna(how='any',axis=0) # dropping all nulls in data"
   ]
  },
  {
   "cell_type": "code",
   "execution_count": 13,
   "metadata": {},
   "outputs": [
    {
     "data": {
      "text/plain": [
       "template_id             0\n",
       "name                    0\n",
       "item_id                 0\n",
       "item_parent_id          0\n",
       "item_type               0\n",
       "item_label              0\n",
       "metadata.industry       0\n",
       "metadata.subindustry    0\n",
       "metadata.name           0\n",
       "header_id               0\n",
       "header_parent_id        0\n",
       "header_type             0\n",
       "header_label            0\n",
       "metrics.use_count       0\n",
       "metrics.rating          0\n",
       "dtype: int64"
      ]
     },
     "execution_count": 13,
     "metadata": {},
     "output_type": "execute_result"
    }
   ],
   "source": [
    "df.isnull().sum()"
   ]
  },
  {
   "cell_type": "code",
   "execution_count": 14,
   "metadata": {},
   "outputs": [
    {
     "data": {
      "image/png": "[encoded data removed]",
      "text/plain": [
       "<Figure size 720x432 with 1 Axes>"
      ]
     },
     "metadata": {},
     "output_type": "display_data"
    }
   ],
   "source": [
    "#Visualization of data set\n",
    "a = df['metadata.industry'].value_counts()\n",
    "a = pd.DataFrame(a)\n",
    "a['count'] = a.index\n",
    "sns.set_style(\"darkgrid\", {\"axes.facecolor\": \".9\"})\n",
    "fig, ax = plt.subplots(figsize=(10,6))\n",
    "sns.barplot(y='metadata.industry', x='count', data=a).set_title('Count of checklist per industry')\n",
    "plt.show()"
   ]
  },
  {
   "cell_type": "markdown",
   "metadata": {},
   "source": [
    "#### From above, we can observe that industry 0 has the most numebr of checklist template in the data"
   ]
  },
  {
   "cell_type": "markdown",
   "metadata": {},
   "source": [
    "### 1.3.2 Checklist name - replacing all duplicates names with original<a name=\"checknameduplicates\"></a>"
   ]
  },
  {
   "cell_type": "code",
   "execution_count": 15,
   "metadata": {},
   "outputs": [
    {
     "data": {
      "text/plain": [
       "['All items - duplicate',\n",
       " 'Restest - duplicate',\n",
       " 'asdasdsa - duplicate - duplicate - duplicate',\n",
       " 'asdasdsa - duplicate - duplicate',\n",
       " 'asdasdsa - duplicate - duplicate - duplicate - duplicate',\n",
       " 'Example of complex template - 2 should be converted - duplicate',\n",
       " 'All possible field that should be converted - duplicate',\n",
       " 'UseIt to Start the day - duplicate',\n",
       " 'All items template 123 - duplicate']"
      ]
     },
     "execution_count": 15,
     "metadata": {},
     "output_type": "execute_result"
    }
   ],
   "source": [
    "dff[dff['name'].str.contains(\"duplicate\")==True]['name'].unique().tolist()\n"
   ]
  },
  {
   "cell_type": "markdown",
   "metadata": {},
   "source": [
    "##### From above, we can confirm that the checkist names have duplicate names and this can be treated by removing the duplicate keyword"
   ]
  },
  {
   "cell_type": "code",
   "execution_count": 16,
   "metadata": {},
   "outputs": [],
   "source": [
    "# Removing Duplicate keyword\n",
    "df.name = df.name.replace({\"All items - duplicate\": \"All items template 123\",\\\n",
    "                          \"All items template 123 - duplicate\":\"All items template 123\",\\\n",
    "                          'Restest - duplicate':'Restest',\\\n",
    "                          'asdasdsa - duplicate - duplicate - duplicate':'asdasdsa',\\\n",
    "                          'asdasdsa - duplicate - duplicate':'asdasdsa',\\\n",
    "                          'asdasdsa - duplicate - duplicate - duplicate - duplicate':'asdasdsa',\\\n",
    "'Example of complex template - 2 should be converted - duplicate':'Example of complex template - 2 should be converted',\\\n",
    "                'All possible field that should be converted - duplicate':'All possible field that should be converted',\\\n",
    "                          'UseIt to Start the day - duplicate':'UseIt to Start the day'})"
   ]
  },
  {
   "cell_type": "markdown",
   "metadata": {},
   "source": [
    "\n",
    "### 1.3.3 Checklist name - removing names with more than 100characters<a name=\"checkname100\"></a>"
   ]
  },
  {
   "cell_type": "code",
   "execution_count": 17,
   "metadata": {},
   "outputs": [],
   "source": [
    "df = df[df['name'].str.len() < 100]"
   ]
  },
  {
   "cell_type": "markdown",
   "metadata": {},
   "source": [
    "\n",
    "### 1.3.4 Checklist name - removing names which has blank values; example '..'<a name=\"checknameblank\"></a>"
   ]
  },
  {
   "cell_type": "code",
   "execution_count": 18,
   "metadata": {},
   "outputs": [],
   "source": [
    "df = df[df['name'].str.contains('[A-Za-z]')]"
   ]
  },
  {
   "cell_type": "code",
   "execution_count": 19,
   "metadata": {},
   "outputs": [],
   "source": [
    "df['name'] = df['name'].map(lambda x: x.strip())"
   ]
  },
  {
   "cell_type": "markdown",
   "metadata": {},
   "source": [
    "#### ------------------------------------------------------------------------------------------------------------------------------------------------------------------------------------------------------------------\n"
   ]
  },
  {
   "cell_type": "markdown",
   "metadata": {},
   "source": [
    "### Selecting only required columns and taking random data of rows 2000"
   ]
  },
  {
   "cell_type": "code",
   "execution_count": 20,
   "metadata": {},
   "outputs": [
    {
     "data": {
      "text/plain": [
       "(77390, 6)"
      ]
     },
     "execution_count": 20,
     "metadata": {},
     "output_type": "execute_result"
    }
   ],
   "source": [
    "df_cluster = df[['name','item_type','item_label','header_type','header_label','metadata.industry']]\n",
    "df_cluster.shape"
   ]
  },
  {
   "cell_type": "code",
   "execution_count": 21,
   "metadata": {},
   "outputs": [
    {
     "data": {
      "text/plain": [
       "(20000, 6)"
      ]
     },
     "execution_count": 21,
     "metadata": {},
     "output_type": "execute_result"
    }
   ],
   "source": [
    "df_sample = df_cluster.sample(20000)\n",
    "df_sample.reset_index(drop=True,inplace=True)\n",
    "df_sample.shape"
   ]
  },
  {
   "cell_type": "markdown",
   "metadata": {},
   "source": [
    "## 1.4. Creating checklist template corpus for recommendation <a name=\"corpus\"></a>\n",
    "\n",
    "### Approach\n",
    "* #### Combine header_label,header_type,item_lable and item_type columns\n",
    "* #### Clean the text\n",
    "* #### Feature creation using TF-IDF approach\n",
    "* #### Using cosine_similarity, predicting recommendation of check-list names per industry"
   ]
  },
  {
   "cell_type": "markdown",
   "metadata": {},
   "source": [
    "### 1.4.1 Combine header_label,header_type,item_lable and item_type columns<a name=\"combine\"></a>"
   ]
  },
  {
   "cell_type": "code",
   "execution_count": 22,
   "metadata": {},
   "outputs": [],
   "source": [
    "df_sample['it_il_ht_hl'] = df_sample['header_type']+\" \"+df_sample['header_label'] +\" \"+\\\n",
    "df_sample['item_type']+\" \"+df_sample['item_label']\n",
    "\n",
    "df_sample = df_sample[['metadata.industry','name','it_il_ht_hl']]"
   ]
  },
  {
   "cell_type": "markdown",
   "metadata": {},
   "source": [
    "### 1.4.2 Clean the text<a name=\"cleantext\"></a>"
   ]
  },
  {
   "cell_type": "code",
   "execution_count": 23,
   "metadata": {},
   "outputs": [],
   "source": [
    "stopwords = nltk.corpus.stopwords.words('english')\n",
    "wn = nltk.WordNetLemmatizer()\n",
    "\n",
    "#-------------------------------------------\n",
    "# Data cleaning into required format for NLP\n",
    "#------------------------------------------\n",
    "\n",
    "def clean_text(text):\n",
    "    \"\"\"\n",
    "    Input is a string of text, then performs the following:\n",
    "        1. converts to lower and removes puncutations\n",
    "        2. Splits the sentence into tokens\n",
    "        3. Removes any digits present\n",
    "        4. Lemmatization, reduces words to their base wordcand removes stop words\n",
    "        5. Removes tokens if its length is 2 chracters or less\n",
    "        6. Returns the sentence of the cleaned text\n",
    "    \"\"\"\n",
    "    text = \"\".join([word.lower() for word in text if word not in string.punctuation])#[1]\n",
    "    tokens = re.split('\\W+', text)#[2]\n",
    "    tokens=[word for word in tokens if word.isalpha()] #[3]\n",
    "    tokens = [wn.lemmatize(word) for word in tokens if word not in stopwords]#[4]\n",
    "    text = \" \".join([word for word in tokens if len(word)>3])#[5]\n",
    "    return text"
   ]
  },
  {
   "cell_type": "code",
   "execution_count": 24,
   "metadata": {},
   "outputs": [],
   "source": [
    "df_sample['clean'] =df_sample.apply(lambda x :clean_text(x['it_il_ht_hl']),axis=1)\n",
    "# new column clean contains the new version of data for next stages"
   ]
  },
  {
   "cell_type": "code",
   "execution_count": 25,
   "metadata": {},
   "outputs": [
    {
     "data": {
      "text/html": [
       "<div>\n",
       "<style scoped>\n",
       "    .dataframe tbody tr th:only-of-type {\n",
       "        vertical-align: middle;\n",
       "    }\n",
       "\n",
       "    .dataframe tbody tr th {\n",
       "        vertical-align: top;\n",
       "    }\n",
       "\n",
       "    .dataframe thead th {\n",
       "        text-align: right;\n",
       "    }\n",
       "</style>\n",
       "<table border=\"1\" class=\"dataframe\">\n",
       "  <thead>\n",
       "    <tr style=\"text-align: right;\">\n",
       "      <th></th>\n",
       "      <th>metadata.industry</th>\n",
       "      <th>name</th>\n",
       "      <th>it_il_ht_hl</th>\n",
       "      <th>clean</th>\n",
       "    </tr>\n",
       "  </thead>\n",
       "  <tbody>\n",
       "    <tr>\n",
       "      <th>0</th>\n",
       "      <td>0</td>\n",
       "      <td>Example of complex template - order page</td>\n",
       "      <td>text Prepared by information is one of Safe NA</td>\n",
       "      <td>text prepared information safe</td>\n",
       "    </tr>\n",
       "    <tr>\n",
       "      <th>1</th>\n",
       "      <td>6</td>\n",
       "      <td>Vehicle Inventory 115A</td>\n",
       "      <td>address Station/Location question Keys</td>\n",
       "      <td>address stationlocation question</td>\n",
       "    </tr>\n",
       "    <tr>\n",
       "      <th>2</th>\n",
       "      <td>0</td>\n",
       "      <td>Example of complex template - 2 should be conv...</td>\n",
       "      <td>information response if one of 1,3 list 1 2 3 ...</td>\n",
       "      <td>information response list question multiple ch...</td>\n",
       "    </tr>\n",
       "    <tr>\n",
       "      <th>3</th>\n",
       "      <td>1</td>\n",
       "      <td>Cleaning - Weekly Site Inspection V1.9</td>\n",
       "      <td>text Prepared by category Food courts</td>\n",
       "      <td>text prepared category food court</td>\n",
       "    </tr>\n",
       "    <tr>\n",
       "      <th>4</th>\n",
       "      <td>6</td>\n",
       "      <td>iOS Templar’s complex</td>\n",
       "      <td>datetime Conducted on information Info text</td>\n",
       "      <td>datetime conducted information info text</td>\n",
       "    </tr>\n",
       "  </tbody>\n",
       "</table>\n",
       "</div>"
      ],
      "text/plain": [
       "   metadata.industry                                               name  \\\n",
       "0                  0           Example of complex template - order page   \n",
       "1                  6                             Vehicle Inventory 115A   \n",
       "2                  0  Example of complex template - 2 should be conv...   \n",
       "3                  1             Cleaning - Weekly Site Inspection V1.9   \n",
       "4                  6                              iOS Templar’s complex   \n",
       "\n",
       "                                         it_il_ht_hl  \\\n",
       "0     text Prepared by information is one of Safe NA   \n",
       "1             address Station/Location question Keys   \n",
       "2  information response if one of 1,3 list 1 2 3 ...   \n",
       "3              text Prepared by category Food courts   \n",
       "4        datetime Conducted on information Info text   \n",
       "\n",
       "                                               clean  \n",
       "0                     text prepared information safe  \n",
       "1                   address stationlocation question  \n",
       "2  information response list question multiple ch...  \n",
       "3                  text prepared category food court  \n",
       "4           datetime conducted information info text  "
      ]
     },
     "execution_count": 25,
     "metadata": {},
     "output_type": "execute_result"
    }
   ],
   "source": [
    "df_sample.head()"
   ]
  },
  {
   "cell_type": "markdown",
   "metadata": {},
   "source": [
    "### 1.4.3 Feature creation using TF-IDF approach<a name=\"feature\"></a>"
   ]
  },
  {
   "cell_type": "code",
   "execution_count": 26,
   "metadata": {},
   "outputs": [],
   "source": [
    "from sklearn.feature_extraction.text import TfidfVectorizer\n",
    "\n",
    "# Define vectorizer parameters\n",
    "    # Selecting unigram,bigram and trigrams\n",
    "    # ignore terms that appear in less than 1% of the documents\n",
    "    # ignore terms that appear in more than 95% of the documents\n",
    "\n",
    "tfidf_vectorizer = TfidfVectorizer(max_df=0.95,min_df=0.01,\n",
    "                                 use_idf=True, ngram_range=(1,3))"
   ]
  },
  {
   "cell_type": "code",
   "execution_count": 27,
   "metadata": {},
   "outputs": [
    {
     "data": {
      "text/plain": [
       "(20000, 173)"
      ]
     },
     "execution_count": 27,
     "metadata": {},
     "output_type": "execute_result"
    }
   ],
   "source": [
    "# Passing the cleaned data to TF-IDF vectoriser\n",
    "\n",
    "tfidf_clean = tfidf_vectorizer.fit_transform(df_sample['clean'])\n",
    "X_features=pd.DataFrame(tfidf_clean.toarray(),columns=tfidf_vectorizer.get_feature_names())\n",
    "X_features.shape"
   ]
  },
  {
   "cell_type": "markdown",
   "metadata": {},
   "source": [
    "### 1.4.4 Using cosine_similarity, predicting recommendation of check-list names per industry<a name=\"cosine\"></a>"
   ]
  },
  {
   "cell_type": "code",
   "execution_count": 28,
   "metadata": {},
   "outputs": [
    {
     "data": {
      "text/html": [
       "<div>\n",
       "<style scoped>\n",
       "    .dataframe tbody tr th:only-of-type {\n",
       "        vertical-align: middle;\n",
       "    }\n",
       "\n",
       "    .dataframe tbody tr th {\n",
       "        vertical-align: top;\n",
       "    }\n",
       "\n",
       "    .dataframe thead th {\n",
       "        text-align: right;\n",
       "    }\n",
       "</style>\n",
       "<table border=\"1\" class=\"dataframe\">\n",
       "  <thead>\n",
       "    <tr style=\"text-align: right;\">\n",
       "      <th></th>\n",
       "      <th>name</th>\n",
       "      <th>item_type</th>\n",
       "      <th>item_label</th>\n",
       "      <th>header_type</th>\n",
       "      <th>header_label</th>\n",
       "      <th>metadata.industry</th>\n",
       "    </tr>\n",
       "  </thead>\n",
       "  <tbody>\n",
       "    <tr>\n",
       "      <th>116882</th>\n",
       "      <td>ATM Installation Snagging Report</td>\n",
       "      <td>category</td>\n",
       "      <td>ATM Details</td>\n",
       "      <td>text</td>\n",
       "      <td>Site Number:</td>\n",
       "      <td>7</td>\n",
       "    </tr>\n",
       "  </tbody>\n",
       "</table>\n",
       "</div>"
      ],
      "text/plain": [
       "                                    name item_type   item_label header_type  \\\n",
       "116882  ATM Installation Snagging Report  category  ATM Details        text   \n",
       "\n",
       "        header_label  metadata.industry  \n",
       "116882  Site Number:                  7  "
      ]
     },
     "execution_count": 28,
     "metadata": {},
     "output_type": "execute_result"
    }
   ],
   "source": [
    "# selecting a test - industry and check-list name for prediction\n",
    "\n",
    "industry =7\n",
    "checklist_name = \"ATM Installation Snagging Report\"\n",
    "\n",
    "test_df = df_cluster[(df_cluster['metadata.industry']==industry) & (df_cluster['name']==checklist_name)].iloc[[0]]\n",
    "test_df"
   ]
  },
  {
   "cell_type": "code",
   "execution_count": 29,
   "metadata": {},
   "outputs": [],
   "source": [
    "from sklearn.metrics.pairwise import cosine_similarity\n",
    "indus_tfidf = tfidf_vectorizer.transform(test_df['name'])\n",
    "cos_similarity_tfidf = map(lambda x: cosine_similarity(indus_tfidf, x),tfidf_clean)"
   ]
  },
  {
   "cell_type": "code",
   "execution_count": 30,
   "metadata": {},
   "outputs": [],
   "source": [
    "def get_recommendation(top, df_all):\n",
    "    \"\"\"\n",
    "    Provides recommendation\n",
    "      input = top; which contains the sorted list of cosine similarity factor. And datframe\n",
    "      output= recommendation dataframe which contains the checklist template names\n",
    "    \"\"\"\n",
    "    \n",
    "    recommendation = pd.DataFrame(columns = ['name'])\n",
    "    count = 0\n",
    "    for i in top:\n",
    "        recommendation.at[count, 'name'] = df_all['name'][i]\n",
    "        count += 1\n",
    "    return recommendation\n",
    "\n",
    "output= list(cos_similarity_tfidf)\n",
    "top = sorted(range(len(output)), key=lambda i: output[i], reverse=True)[:10]"
   ]
  },
  {
   "cell_type": "markdown",
   "metadata": {},
   "source": [
    "#### below is the sample output"
   ]
  },
  {
   "cell_type": "code",
   "execution_count": 31,
   "metadata": {},
   "outputs": [
    {
     "name": "stdout",
     "output_type": "stream",
     "text": [
      "Top 10 checklist items recommendation for customer/industry= 7 and checklist title= ATM Installation Snagging Report\n"
     ]
    },
    {
     "data": {
      "text/html": [
       "<div>\n",
       "<style scoped>\n",
       "    .dataframe tbody tr th:only-of-type {\n",
       "        vertical-align: middle;\n",
       "    }\n",
       "\n",
       "    .dataframe tbody tr th {\n",
       "        vertical-align: top;\n",
       "    }\n",
       "\n",
       "    .dataframe thead th {\n",
       "        text-align: right;\n",
       "    }\n",
       "</style>\n",
       "<table border=\"1\" class=\"dataframe\">\n",
       "  <thead>\n",
       "    <tr style=\"text-align: right;\">\n",
       "      <th></th>\n",
       "      <th>name</th>\n",
       "    </tr>\n",
       "  </thead>\n",
       "  <tbody>\n",
       "    <tr>\n",
       "      <th>0</th>\n",
       "      <td>Example of complex template - order page</td>\n",
       "    </tr>\n",
       "    <tr>\n",
       "      <th>1</th>\n",
       "      <td>Vehicle Inventory 115A</td>\n",
       "    </tr>\n",
       "    <tr>\n",
       "      <th>2</th>\n",
       "      <td>Example of complex template - 2 should be conv...</td>\n",
       "    </tr>\n",
       "    <tr>\n",
       "      <th>3</th>\n",
       "      <td>Cleaning - Weekly Site Inspection V1.9</td>\n",
       "    </tr>\n",
       "    <tr>\n",
       "      <th>4</th>\n",
       "      <td>iOS Templar’s complex</td>\n",
       "    </tr>\n",
       "    <tr>\n",
       "      <th>5</th>\n",
       "      <td>Example of complex template - order page</td>\n",
       "    </tr>\n",
       "    <tr>\n",
       "      <th>6</th>\n",
       "      <td>Example of complex template - 2 should be conv...</td>\n",
       "    </tr>\n",
       "    <tr>\n",
       "      <th>7</th>\n",
       "      <td>All possible field that should be converted</td>\n",
       "    </tr>\n",
       "    <tr>\n",
       "      <th>8</th>\n",
       "      <td>Centre Excellence Review</td>\n",
       "    </tr>\n",
       "    <tr>\n",
       "      <th>9</th>\n",
       "      <td>Civil Project OHS Audit</td>\n",
       "    </tr>\n",
       "  </tbody>\n",
       "</table>\n",
       "</div>"
      ],
      "text/plain": [
       "                                                name\n",
       "0           Example of complex template - order page\n",
       "1                             Vehicle Inventory 115A\n",
       "2  Example of complex template - 2 should be conv...\n",
       "3             Cleaning - Weekly Site Inspection V1.9\n",
       "4                              iOS Templar’s complex\n",
       "5           Example of complex template - order page\n",
       "6  Example of complex template - 2 should be conv...\n",
       "7        All possible field that should be converted\n",
       "8                           Centre Excellence Review\n",
       "9                            Civil Project OHS Audit"
      ]
     },
     "execution_count": 31,
     "metadata": {},
     "output_type": "execute_result"
    }
   ],
   "source": [
    "print(\"Top 10 checklist items recommendation for customer/industry= {} and checklist title= {}\".\\\n",
    "      format(industry,checklist_name))\n",
    "get_recommendation(top,df_sample)"
   ]
  },
  {
   "cell_type": "markdown",
   "metadata": {},
   "source": [
    "#### Q-1) Conclusion - Based on the findings of above, we can recommend all required checklist templates  based on customer(industry) and different checklist titles."
   ]
  },
  {
   "cell_type": "markdown",
   "metadata": {},
   "source": [
    "#### ------------------------------------------------------------------------------------------------------------------------------------------------------------------------------------------------------------------"
   ]
  },
  {
   "cell_type": "markdown",
   "metadata": {},
   "source": [
    "### Question 2) - Suggestion on potential checklist items for a checklist name<a name=\"q2\"></a>\n",
    "\n",
    "\n",
    "#### Approach: Using K-means clustering \n",
    "\n",
    "* ####  2.1) Identify clusters\n",
    "* ####  2.2) Pre-process item-label column\n",
    "* ####  2.3) TF_IDF is applied and K-means clsutering technique is used to cluster the data\n",
    "* ####  2.4) Prediction on test data"
   ]
  },
  {
   "cell_type": "markdown",
   "metadata": {},
   "source": [
    "#### 2.1 Identify Clusters<a name=\"2.1\"></a>"
   ]
  },
  {
   "cell_type": "code",
   "execution_count": 353,
   "metadata": {},
   "outputs": [
    {
     "data": {
      "text/plain": [
       "(20000, 6)"
      ]
     },
     "execution_count": 353,
     "metadata": {},
     "output_type": "execute_result"
    }
   ],
   "source": [
    "# Sample data is taken\n",
    "\n",
    "dfq2 = df_cluster.sample(20000)\n",
    "dfq2.reset_index(drop=True,inplace=True)\n",
    "dfq2.shape"
   ]
  },
  {
   "cell_type": "code",
   "execution_count": 354,
   "metadata": {},
   "outputs": [
    {
     "data": {
      "text/html": [
       "<div>\n",
       "<style scoped>\n",
       "    .dataframe tbody tr th:only-of-type {\n",
       "        vertical-align: middle;\n",
       "    }\n",
       "\n",
       "    .dataframe tbody tr th {\n",
       "        vertical-align: top;\n",
       "    }\n",
       "\n",
       "    .dataframe thead th {\n",
       "        text-align: right;\n",
       "    }\n",
       "</style>\n",
       "<table border=\"1\" class=\"dataframe\">\n",
       "  <thead>\n",
       "    <tr style=\"text-align: right;\">\n",
       "      <th></th>\n",
       "      <th>name</th>\n",
       "      <th>item_type</th>\n",
       "      <th>item_label</th>\n",
       "      <th>header_type</th>\n",
       "      <th>header_label</th>\n",
       "      <th>metadata.industry</th>\n",
       "    </tr>\n",
       "  </thead>\n",
       "  <tbody>\n",
       "    <tr>\n",
       "      <th>0</th>\n",
       "      <td>UseIt to Start the day</td>\n",
       "      <td>checkbox</td>\n",
       "      <td>Include a spoon if required.</td>\n",
       "      <td>address</td>\n",
       "      <td>Location</td>\n",
       "      <td>2</td>\n",
       "    </tr>\n",
       "    <tr>\n",
       "      <th>1</th>\n",
       "      <td>Hatching Operation Audit</td>\n",
       "      <td>question</td>\n",
       "      <td>The bibliography is sleazy and unmatched?</td>\n",
       "      <td>textsingle</td>\n",
       "      <td>Audit Title</td>\n",
       "      <td>-1</td>\n",
       "    </tr>\n",
       "    <tr>\n",
       "      <th>2</th>\n",
       "      <td>Construction Site HSE Audit UK</td>\n",
       "      <td>question</td>\n",
       "      <td>Be checked and replenished on a regular basis.</td>\n",
       "      <td>datetime</td>\n",
       "      <td>Conducted on</td>\n",
       "      <td>3</td>\n",
       "    </tr>\n",
       "    <tr>\n",
       "      <th>3</th>\n",
       "      <td>Example of complex template - 2 should be conv...</td>\n",
       "      <td>information</td>\n",
       "      <td>If &gt;= 14</td>\n",
       "      <td>address</td>\n",
       "      <td>Location</td>\n",
       "      <td>0</td>\n",
       "    </tr>\n",
       "    <tr>\n",
       "      <th>4</th>\n",
       "      <td>CHURCH SAFETY SELF-INSPECTION FORM</td>\n",
       "      <td>category</td>\n",
       "      <td>CHECKLIST</td>\n",
       "      <td>datetime</td>\n",
       "      <td>Conducted on</td>\n",
       "      <td>-1</td>\n",
       "    </tr>\n",
       "  </tbody>\n",
       "</table>\n",
       "</div>"
      ],
      "text/plain": [
       "                                                name    item_type  \\\n",
       "0                             UseIt to Start the day     checkbox   \n",
       "1                           Hatching Operation Audit     question   \n",
       "2                     Construction Site HSE Audit UK     question   \n",
       "3  Example of complex template - 2 should be conv...  information   \n",
       "4                 CHURCH SAFETY SELF-INSPECTION FORM     category   \n",
       "\n",
       "                                       item_label header_type  header_label  \\\n",
       "0                    Include a spoon if required.     address      Location   \n",
       "1       The bibliography is sleazy and unmatched?  textsingle   Audit Title   \n",
       "2  Be checked and replenished on a regular basis.    datetime  Conducted on   \n",
       "3                                        If >= 14     address      Location   \n",
       "4                                       CHECKLIST    datetime  Conducted on   \n",
       "\n",
       "   metadata.industry  \n",
       "0                  2  \n",
       "1                 -1  \n",
       "2                  3  \n",
       "3                  0  \n",
       "4                 -1  "
      ]
     },
     "execution_count": 354,
     "metadata": {},
     "output_type": "execute_result"
    }
   ],
   "source": [
    "dfq2.head()"
   ]
  },
  {
   "cell_type": "markdown",
   "metadata": {},
   "source": [
    "#### Total unique text present in \"name\" column gives us an idea how to determine total clusters"
   ]
  },
  {
   "cell_type": "code",
   "execution_count": 400,
   "metadata": {},
   "outputs": [
    {
     "name": "stdout",
     "output_type": "stream",
     "text": [
      "Number of clusters is same as total number of unique checklist items present=76\n"
     ]
    }
   ],
   "source": [
    "unique_name_df = pd.DataFrame(dfq2['name'].unique(),columns=[\"unique_names\"])\n",
    "clusters = len(dfq2['name'].unique())\n",
    "\n",
    "print(\"Number of clusters is same as total number of unique checklist items present={}\".format(clusters))\n"
   ]
  },
  {
   "cell_type": "markdown",
   "metadata": {},
   "source": [
    "#### 2.2 Pre-process item-label column<a name=\"2.2\"></a>"
   ]
  },
  {
   "cell_type": "code",
   "execution_count": 356,
   "metadata": {},
   "outputs": [],
   "source": [
    "dfq2['clean_item_label'] =dfq2.apply(lambda x :clean_text(x['item_label']),axis=1)\n",
    "dfq2= dfq2.replace(r'^\\s*$', np.nan, regex=True) # replace blank spaces with null values\n",
    "dfq2 = dfq2.dropna(how='any',axis=0) # dropping all nulls in data\n",
    "dfq2.reset_index(drop=True,inplace=True)\n"
   ]
  },
  {
   "cell_type": "code",
   "execution_count": 357,
   "metadata": {
    "scrolled": true
   },
   "outputs": [
    {
     "data": {
      "text/html": [
       "<div>\n",
       "<style scoped>\n",
       "    .dataframe tbody tr th:only-of-type {\n",
       "        vertical-align: middle;\n",
       "    }\n",
       "\n",
       "    .dataframe tbody tr th {\n",
       "        vertical-align: top;\n",
       "    }\n",
       "\n",
       "    .dataframe thead th {\n",
       "        text-align: right;\n",
       "    }\n",
       "</style>\n",
       "<table border=\"1\" class=\"dataframe\">\n",
       "  <thead>\n",
       "    <tr style=\"text-align: right;\">\n",
       "      <th></th>\n",
       "      <th>name</th>\n",
       "      <th>item_type</th>\n",
       "      <th>item_label</th>\n",
       "      <th>header_type</th>\n",
       "      <th>header_label</th>\n",
       "      <th>metadata.industry</th>\n",
       "      <th>clean_item_label</th>\n",
       "    </tr>\n",
       "  </thead>\n",
       "  <tbody>\n",
       "    <tr>\n",
       "      <th>0</th>\n",
       "      <td>UseIt to Start the day</td>\n",
       "      <td>checkbox</td>\n",
       "      <td>Include a spoon if required.</td>\n",
       "      <td>address</td>\n",
       "      <td>Location</td>\n",
       "      <td>2</td>\n",
       "      <td>include spoon required</td>\n",
       "    </tr>\n",
       "    <tr>\n",
       "      <th>1</th>\n",
       "      <td>Hatching Operation Audit</td>\n",
       "      <td>question</td>\n",
       "      <td>The bibliography is sleazy and unmatched?</td>\n",
       "      <td>textsingle</td>\n",
       "      <td>Audit Title</td>\n",
       "      <td>-1</td>\n",
       "      <td>bibliography sleazy unmatched</td>\n",
       "    </tr>\n",
       "    <tr>\n",
       "      <th>2</th>\n",
       "      <td>Construction Site HSE Audit UK</td>\n",
       "      <td>question</td>\n",
       "      <td>Be checked and replenished on a regular basis.</td>\n",
       "      <td>datetime</td>\n",
       "      <td>Conducted on</td>\n",
       "      <td>3</td>\n",
       "      <td>checked replenished regular basis</td>\n",
       "    </tr>\n",
       "    <tr>\n",
       "      <th>3</th>\n",
       "      <td>CHURCH SAFETY SELF-INSPECTION FORM</td>\n",
       "      <td>category</td>\n",
       "      <td>CHECKLIST</td>\n",
       "      <td>datetime</td>\n",
       "      <td>Conducted on</td>\n",
       "      <td>-1</td>\n",
       "      <td>checklist</td>\n",
       "    </tr>\n",
       "    <tr>\n",
       "      <th>4</th>\n",
       "      <td>Hatching Operation Audit</td>\n",
       "      <td>category</td>\n",
       "      <td>Frowns</td>\n",
       "      <td>textsingle</td>\n",
       "      <td>Client / Site</td>\n",
       "      <td>-1</td>\n",
       "      <td>frown</td>\n",
       "    </tr>\n",
       "  </tbody>\n",
       "</table>\n",
       "</div>"
      ],
      "text/plain": [
       "                                 name item_type  \\\n",
       "0              UseIt to Start the day  checkbox   \n",
       "1            Hatching Operation Audit  question   \n",
       "2      Construction Site HSE Audit UK  question   \n",
       "3  CHURCH SAFETY SELF-INSPECTION FORM  category   \n",
       "4            Hatching Operation Audit  category   \n",
       "\n",
       "                                       item_label header_type   header_label  \\\n",
       "0                    Include a spoon if required.     address       Location   \n",
       "1       The bibliography is sleazy and unmatched?  textsingle    Audit Title   \n",
       "2  Be checked and replenished on a regular basis.    datetime   Conducted on   \n",
       "3                                       CHECKLIST    datetime   Conducted on   \n",
       "4                                          Frowns  textsingle  Client / Site   \n",
       "\n",
       "   metadata.industry                   clean_item_label  \n",
       "0                  2             include spoon required  \n",
       "1                 -1      bibliography sleazy unmatched  \n",
       "2                  3  checked replenished regular basis  \n",
       "3                 -1                          checklist  \n",
       "4                 -1                              frown  "
      ]
     },
     "execution_count": 357,
     "metadata": {},
     "output_type": "execute_result"
    }
   ],
   "source": [
    "dfq2.head()"
   ]
  },
  {
   "cell_type": "markdown",
   "metadata": {},
   "source": [
    "#### 2.3 TF_IDF is applied and K-means clsutering technique is used to cluster the data<a name=\"2.3\"></a>\n"
   ]
  },
  {
   "cell_type": "code",
   "execution_count": 340,
   "metadata": {},
   "outputs": [],
   "source": [
    "from sklearn.feature_extraction.text import TfidfVectorizer\n",
    "\n",
    "#define vectorizer parameters\n",
    "tfidf_vectorizer2 = TfidfVectorizer(max_df=0.95,min_df=0.01,\n",
    "                                 use_idf=True, ngram_range=(1,3))"
   ]
  },
  {
   "cell_type": "code",
   "execution_count": 358,
   "metadata": {},
   "outputs": [
    {
     "data": {
      "text/plain": [
       "(18225, 98)"
      ]
     },
     "execution_count": 358,
     "metadata": {},
     "output_type": "execute_result"
    }
   ],
   "source": [
    "tfidf_itemlabel = tfidf_vectorizer2.fit_transform(dfq2['clean_item_label'])\n",
    "X_il_features2=pd.DataFrame(tfidf_itemlabel.toarray(),columns=tfidf_vectorizer2.get_feature_names())\n",
    "X_il_features2.shape"
   ]
  },
  {
   "cell_type": "code",
   "execution_count": 359,
   "metadata": {},
   "outputs": [],
   "source": [
    "from sklearn.cluster import KMeans\n",
    "import collections\n",
    "\n",
    "km_model = KMeans(n_clusters=clusters)\n",
    "\n",
    "km_model.fit(X_il_features2)\n",
    "clustering = collections.defaultdict(list)"
   ]
  },
  {
   "cell_type": "code",
   "execution_count": 360,
   "metadata": {},
   "outputs": [],
   "source": [
    "for idx, label in enumerate(km_model.labels_):\n",
    "        clustering[label].append(idx)"
   ]
  },
  {
   "cell_type": "markdown",
   "metadata": {},
   "source": [
    "#### 2.4 Prediction on test data<a name=\"2.4\"></a>"
   ]
  },
  {
   "cell_type": "code",
   "execution_count": 450,
   "metadata": {},
   "outputs": [
    {
     "data": {
      "text/html": [
       "<div>\n",
       "<style scoped>\n",
       "    .dataframe tbody tr th:only-of-type {\n",
       "        vertical-align: middle;\n",
       "    }\n",
       "\n",
       "    .dataframe tbody tr th {\n",
       "        vertical-align: top;\n",
       "    }\n",
       "\n",
       "    .dataframe thead th {\n",
       "        text-align: right;\n",
       "    }\n",
       "</style>\n",
       "<table border=\"1\" class=\"dataframe\">\n",
       "  <thead>\n",
       "    <tr style=\"text-align: right;\">\n",
       "      <th></th>\n",
       "      <th>unique_names</th>\n",
       "    </tr>\n",
       "  </thead>\n",
       "  <tbody>\n",
       "    <tr>\n",
       "      <th>28</th>\n",
       "      <td>General Site Safety Audit</td>\n",
       "    </tr>\n",
       "  </tbody>\n",
       "</table>\n",
       "</div>"
      ],
      "text/plain": [
       "                 unique_names\n",
       "28  General Site Safety Audit"
      ]
     },
     "execution_count": 450,
     "metadata": {},
     "output_type": "execute_result"
    }
   ],
   "source": [
    "# Taking a sample check list name, identifying its index location\n",
    "\n",
    "checklist_name=\"General Site Safety Audit\"\n",
    "\n",
    "checklist_name_index = unique_name_df[unique_name_df['unique_names']==checklist_name].index[0]\n",
    "unique_name_df[unique_name_df['unique_names']==checklist_name]"
   ]
  },
  {
   "cell_type": "markdown",
   "metadata": {},
   "source": [
    "\n",
    "-----\n",
    "#### Predicting all \"item labels\" for the checklist name = \"General Site Safety Audit\", index location=28\n",
    "\n",
    "#### Below loop displays all the index location of \"item labels\" for the checklist name = \"General Site Safety Audit\", index location=28"
   ]
  },
  {
   "cell_type": "code",
   "execution_count": 451,
   "metadata": {},
   "outputs": [
    {
     "name": "stdout",
     "output_type": "stream",
     "text": [
      "28\n",
      "[433, 547, 567, 613, 677, 902, 1061, 1170, 1452, 1494, 2010, 2086, 2097, 2100, 2173, 2351, 2391, 2796, 2817, 2912, 3156, 3321, 3428, 3520, 3978, 4049, 4624, 4717, 4822, 4905, 5146, 5210, 5273, 5304, 5688, 5834, 5895, 6153, 6190, 6552, 6609, 6675, 7053, 7459, 7505, 7544, 7607, 7860, 7864, 7879, 8017, 8402, 8438, 8579, 9018, 9159, 9164, 9321, 9464, 9517, 9586, 9732, 9932, 9993, 10042, 10073, 10156, 10233, 10390, 10586, 10734, 10760, 10975, 10977, 11067, 11079, 11100, 11150, 11587, 11624, 11688, 11772, 11937, 12136, 12144, 12317, 12432, 12460, 12557, 12670, 13026, 13123, 13321, 13343, 13428, 13579, 13938, 14296, 14352, 14365, 14521, 14590, 14635, 14832, 14911, 15207, 15612, 15630, 15845, 15877, 16139, 16240, 16338, 16415, 16546, 16595, 16653, 16744, 16759, 17015, 17021, 17201, 17257, 17557, 17872, 17881]\n"
     ]
    }
   ],
   "source": [
    "for (k,v) in clustering.items():\n",
    "    if k==checklist_name_index:\n",
    "        print(k)\n",
    "        print(v)"
   ]
  },
  {
   "cell_type": "markdown",
   "metadata": {},
   "source": [
    "#### Additional confirmation by checking the index location of \"item labels\" for the checklist name = \"General Site Safety Audit\""
   ]
  },
  {
   "cell_type": "code",
   "execution_count": 440,
   "metadata": {},
   "outputs": [
    {
     "data": {
      "text/plain": [
       "'Toilet requisite supply level'"
      ]
     },
     "execution_count": 440,
     "metadata": {},
     "output_type": "execute_result"
    }
   ],
   "source": [
    "dfq2.iloc[433]['item_label']"
   ]
  },
  {
   "cell_type": "code",
   "execution_count": 442,
   "metadata": {},
   "outputs": [
    {
     "data": {
      "text/plain": [
       "'Is there a system in place to test for drug and alcohol levels of workers?'"
      ]
     },
     "execution_count": 442,
     "metadata": {},
     "output_type": "execute_result"
    }
   ],
   "source": [
    "dfq2.iloc[567]['item_label']"
   ]
  },
  {
   "cell_type": "markdown",
   "metadata": {},
   "source": [
    "#### Conclusion: Using K-means clustering, for a particular checklist name, respective item labels are identified.\n",
    "\n",
    "#### Thus, this technique can be used to improve customer experience"
   ]
  },
  {
   "cell_type": "markdown",
   "metadata": {},
   "source": [
    "#### ------------------------------------------------------------------------------------------------------------------------------------------------------------------------------------------------------------------\n",
    "\n",
    "### Question#3 - To find the potential risks between the checklist items <a name=\"q3\"></a>"
   ]
  },
  {
   "cell_type": "markdown",
   "metadata": {},
   "source": [
    "### Approach\n",
    "\n",
    "* #### 3-1) Column Item-label is selected and Text processing is applied, item-label is further cleaned\n",
    "* #### 3-2) TF-IDF is applied to generate the Bigram - features\n",
    "* #### 3-3) Correlation matrix is calculated for each bigram\n",
    "* #### 3-4) Sample output"
   ]
  },
  {
   "cell_type": "markdown",
   "metadata": {},
   "source": [
    "#### 3-1) Column Item-label is selected and Text processing is applied, item-label is further cleaned<a name=\"3.1\"></a>"
   ]
  },
  {
   "cell_type": "code",
   "execution_count": 262,
   "metadata": {},
   "outputs": [],
   "source": [
    "dfq3 = df_cluster.sample(1000) # taking sample of 1000\n",
    "dfq3.reset_index(inplace=True, drop=True)\n"
   ]
  },
  {
   "cell_type": "code",
   "execution_count": 263,
   "metadata": {},
   "outputs": [],
   "source": [
    "# based on function in 4.2, column item-label is processed\n",
    "dfq3['item_label'] =dfq3.apply(lambda x :clean_text(x['item_label']),axis=1) \n",
    "\n",
    "dfq3= dfq3.replace(r'^\\s*$', np.nan, regex=True) # replace blank spaces with null values\n",
    "dfq3 = dfq3.dropna(how='any',axis=0) # dropping all nulls in data\n",
    "dfq3.reset_index(drop=True,inplace=True)\n",
    "\n",
    "dfq3 = dfq3[['name','item_label']]"
   ]
  },
  {
   "cell_type": "code",
   "execution_count": 279,
   "metadata": {},
   "outputs": [
    {
     "data": {
      "text/html": [
       "<div>\n",
       "<style scoped>\n",
       "    .dataframe tbody tr th:only-of-type {\n",
       "        vertical-align: middle;\n",
       "    }\n",
       "\n",
       "    .dataframe tbody tr th {\n",
       "        vertical-align: top;\n",
       "    }\n",
       "\n",
       "    .dataframe thead th {\n",
       "        text-align: right;\n",
       "    }\n",
       "</style>\n",
       "<table border=\"1\" class=\"dataframe\">\n",
       "  <thead>\n",
       "    <tr style=\"text-align: right;\">\n",
       "      <th></th>\n",
       "      <th>name</th>\n",
       "      <th>item_label</th>\n",
       "    </tr>\n",
       "  </thead>\n",
       "  <tbody>\n",
       "    <tr>\n",
       "      <th>0</th>\n",
       "      <td>Example of complex template - 2 should be conv...</td>\n",
       "      <td>categ brocken</td>\n",
       "    </tr>\n",
       "    <tr>\n",
       "      <th>1</th>\n",
       "      <td>Vetting Inspection Report FL  (form 1200)</td>\n",
       "      <td>vessel provided adequate operator instruction ...</td>\n",
       "    </tr>\n",
       "    <tr>\n",
       "      <th>2</th>\n",
       "      <td>Civil Project OHS Audit</td>\n",
       "      <td>düşme durdurma önlemleri fall arrest measure</td>\n",
       "    </tr>\n",
       "    <tr>\n",
       "      <th>3</th>\n",
       "      <td>FS Compliance Assessment - latest</td>\n",
       "      <td>mystery shop attempted</td>\n",
       "    </tr>\n",
       "    <tr>\n",
       "      <th>4</th>\n",
       "      <td>Example of complex template - 2 should be conv...</td>\n",
       "      <td>pass</td>\n",
       "    </tr>\n",
       "  </tbody>\n",
       "</table>\n",
       "</div>"
      ],
      "text/plain": [
       "                                                name  \\\n",
       "0  Example of complex template - 2 should be conv...   \n",
       "1          Vetting Inspection Report FL  (form 1200)   \n",
       "2                            Civil Project OHS Audit   \n",
       "3                  FS Compliance Assessment - latest   \n",
       "4  Example of complex template - 2 should be conv...   \n",
       "\n",
       "                                          item_label  \n",
       "0                                      categ brocken  \n",
       "1  vessel provided adequate operator instruction ...  \n",
       "2       düşme durdurma önlemleri fall arrest measure  \n",
       "3                             mystery shop attempted  \n",
       "4                                               pass  "
      ]
     },
     "execution_count": 279,
     "metadata": {},
     "output_type": "execute_result"
    }
   ],
   "source": [
    "dfq3.head()"
   ]
  },
  {
   "cell_type": "markdown",
   "metadata": {},
   "source": [
    "#### 3-2) TF-IDF is applied to generate the Bigram - features<a name=\"3.2\"></a>"
   ]
  },
  {
   "cell_type": "code",
   "execution_count": 266,
   "metadata": {},
   "outputs": [],
   "source": [
    "from sklearn.feature_extraction.text import TfidfVectorizer\n",
    "\n",
    "#define vectorizer parameters\n",
    "tfidf_vectorizer = TfidfVectorizer(ngram_range=[2,2])\n",
    "\n",
    "tfidf_matrix = tfidf_vectorizer.fit_transform(dfq3['item_label'])"
   ]
  },
  {
   "cell_type": "code",
   "execution_count": 267,
   "metadata": {},
   "outputs": [
    {
     "data": {
      "text/plain": [
       "(920, 2336)"
      ]
     },
     "execution_count": 267,
     "metadata": {},
     "output_type": "execute_result"
    }
   ],
   "source": [
    "X_features3=pd.DataFrame(tfidf_matrix.toarray(),columns=tfidf_vectorizer.get_feature_names())\n",
    "X_features3.shape"
   ]
  },
  {
   "cell_type": "markdown",
   "metadata": {},
   "source": [
    "#### 3-3) Correlation matrix is calculated for each bigram<a name=\"3.3\"></a>"
   ]
  },
  {
   "cell_type": "code",
   "execution_count": 268,
   "metadata": {},
   "outputs": [],
   "source": [
    "def find_corr_features(features):\n",
    "    \"\"\"\n",
    "    This function generates correlated features and correlation matrix\n",
    "    \n",
    "    Input features generated in step 3-2\n",
    "    Output contains highly correlated features and its matrix  \n",
    "    \"\"\"\n",
    "    correlated_features = set()  \n",
    "    correlation_matrix=features.corr()\n",
    "\n",
    "    for i in range(len(correlation_matrix .columns)):  \n",
    "        for j in range(i):\n",
    "            if abs(correlation_matrix.iloc[i, j]) > 0.95:\n",
    "                colname = correlation_matrix.columns[i]\n",
    "                correlated_features.add(colname)\n",
    "                \n",
    "    return list(correlated_features),correlation_matrix"
   ]
  },
  {
   "cell_type": "code",
   "execution_count": 269,
   "metadata": {},
   "outputs": [],
   "source": [
    "correlated_features,correlation_matrix = find_corr_features(X_features3)"
   ]
  },
  {
   "cell_type": "markdown",
   "metadata": {},
   "source": [
    "#### Below is the sample of highly correlated features \n"
   ]
  },
  {
   "cell_type": "code",
   "execution_count": 271,
   "metadata": {},
   "outputs": [
    {
     "data": {
      "text/plain": [
       "['match plan',\n",
       " 'free rubbish',\n",
       " 'time inspection',\n",
       " 'least properly',\n",
       " 'approved maintained',\n",
       " 'record date',\n",
       " 'working hour',\n",
       " 'test tube',\n",
       " 'handling application',\n",
       " 'carriage grain',\n",
       " 'test initial',\n",
       " 'lead placed',\n",
       " 'wastage corrosion',\n",
       " 'plantequipment including',\n",
       " 'paying particular',\n",
       " 'type cargo',\n",
       " 'garden mulched',\n",
       " 'assign racs',\n",
       " 'lokal kontrolü',\n",
       " 'operator defined',\n",
       " 'minimize vehicle',\n",
       " 'response plan',\n",
       " 'sivri nesneler',\n",
       " 'information displayed',\n",
       " 'swept cleaned',\n",
       " 'code code',\n",
       " 'embedded centre',\n",
       " 'site securely',\n",
       " 'includes testing',\n",
       " 'inadequate amenity',\n",
       " 'güvenliği ekipmanı',\n",
       " 'implementation learning',\n",
       " 'site adjacent',\n",
       " 'regular inspection',\n",
       " 'handling issue',\n",
       " 'tank board',\n",
       " 'person ensure',\n",
       " 'inadequate communication',\n",
       " 'lunch room',\n",
       " 'changing child',\n",
       " 'inch clearance',\n",
       " 'child adjustment',\n",
       " 'operating public',\n",
       " 'traffic front',\n",
       " 'practice qualified',\n",
       " 'educator encourage',\n",
       " 'breaking strength',\n",
       " 'product safety',\n",
       " 'afman paragraph',\n",
       " 'düşme durdurma',\n",
       " 'anyone wait',\n",
       " 'high medium',\n",
       " 'reviewed signed',\n",
       " 'routine dump',\n",
       " 'toxic encountered',\n",
       " 'record maintained',\n",
       " 'every conducted',\n",
       " 'safety compliance',\n",
       " 'progress completing',\n",
       " 'dislodged java',\n",
       " 'medium intention',\n",
       " 'sand dissolve',\n",
       " 'void space',\n",
       " 'retest trace',\n",
       " 'lead damaged',\n",
       " 'include positive',\n",
       " 'qualified person',\n",
       " 'pilot boarding',\n",
       " 'device used',\n",
       " 'general comment',\n",
       " 'every three',\n",
       " 'regard insurance',\n",
       " 'fall hazard',\n",
       " 'spare onboard',\n",
       " 'would expect',\n",
       " 'door room',\n",
       " 'recorded frequency',\n",
       " 'personal protective',\n",
       " 'false alkaline',\n",
       " 'izinler working',\n",
       " 'radio signal',\n",
       " 'verify design',\n",
       " 'select failed',\n",
       " 'team member',\n",
       " 'fairly unlikely',\n",
       " 'office symbol',\n",
       " 'family work',\n",
       " 'makinesi güvenliği',\n",
       " 'staff public',\n",
       " 'guide operating',\n",
       " 'etkileşimi work',\n",
       " 'slippery material',\n",
       " 'welcoming environment',\n",
       " 'site adequate',\n",
       " 'troop concentration',\n",
       " 'plastic procedure',\n",
       " 'team management',\n",
       " 'meeting legislative',\n",
       " 'kurulumu kaldırma',\n",
       " 'high must',\n",
       " 'consumables material',\n",
       " 'area lunch',\n",
       " 'part structure',\n",
       " 'unusual hazard',\n",
       " 'kick plate',\n",
       " 'note unit',\n",
       " 'hazard assign',\n",
       " 'conformance since',\n",
       " 'unchecked example',\n",
       " 'lifted person',\n",
       " 'clean good',\n",
       " 'established maintained',\n",
       " 'reanchor wood',\n",
       " 'emergency battery',\n",
       " 'educator available',\n",
       " 'storage shed',\n",
       " 'helmet worn',\n",
       " 'transformer recording',\n",
       " 'flooring appropriate',\n",
       " 'appropriate toxic',\n",
       " 'tertip düzen',\n",
       " 'shelf checkout',\n",
       " 'equipment stock',\n",
       " 'kazı hand',\n",
       " 'refusal acceptance',\n",
       " 'kaldırma donanımlarının',\n",
       " 'foyer embedded',\n",
       " 'design customer',\n",
       " 'laundry list',\n",
       " 'sharp vegetation',\n",
       " 'unnecessary clutter',\n",
       " 'inspected loading',\n",
       " 'power line',\n",
       " 'smear free',\n",
       " 'base affect',\n",
       " 'designated area',\n",
       " 'deficiency hazard',\n",
       " 'also include',\n",
       " 'colleague sensitivity',\n",
       " 'stepsplatforms protected',\n",
       " 'kept disconnected',\n",
       " 'prepared competent',\n",
       " 'çalışma noktalarına',\n",
       " 'controlled safe',\n",
       " 'wait extended',\n",
       " 'scale awesome',\n",
       " 'workstation desk',\n",
       " 'cover sufficient',\n",
       " 'kırma eleme',\n",
       " 'space kept',\n",
       " 'code ethic',\n",
       " 'record meeting',\n",
       " 'annual review',\n",
       " 'material equipment',\n",
       " 'drug alcohol',\n",
       " 'record inspection',\n",
       " 'level blood',\n",
       " 'intellectual development',\n",
       " 'public fenced',\n",
       " 'customer telephone',\n",
       " 'housed possible',\n",
       " 'switchboard locked',\n",
       " 'check tool',\n",
       " 'operated emergency',\n",
       " 'point door',\n",
       " 'paper towel',\n",
       " 'weekly offs',\n",
       " 'waste regulation',\n",
       " 'trimmed long',\n",
       " 'child safe',\n",
       " 'sapan mapa',\n",
       " 'volunteer know',\n",
       " 'displayed leave',\n",
       " 'colleague allowed',\n",
       " 'free unnecessary',\n",
       " 'identified free',\n",
       " 'toilet requisite',\n",
       " 'name number',\n",
       " 'name organization',\n",
       " 'defined maximum',\n",
       " 'solely electronic',\n",
       " 'could cause',\n",
       " 'cream consumables',\n",
       " 'muster list',\n",
       " 'enter multiple',\n",
       " 'schedule address',\n",
       " 'çalışma zeminleri',\n",
       " 'nurture sense',\n",
       " 'well kept',\n",
       " 'deployment plan',\n",
       " 'sign directing',\n",
       " 'kept clear',\n",
       " 'council procedure',\n",
       " 'ensure correct',\n",
       " 'resource room',\n",
       " 'publication chart',\n",
       " 'installed operative',\n",
       " 'compliance record',\n",
       " 'vending machine',\n",
       " 'dealing nonconformity',\n",
       " 'authorisation policy',\n",
       " 'site layout',\n",
       " 'işler welding',\n",
       " 'fenced time',\n",
       " 'vessel equipped',\n",
       " 'possible fairly',\n",
       " 'suitable grade',\n",
       " 'work activity',\n",
       " 'hotwork permit',\n",
       " 'control verify',\n",
       " 'tank least',\n",
       " 'mulched free',\n",
       " 'subordinate tenant',\n",
       " 'emergency response',\n",
       " 'dangerous substance',\n",
       " 'management compliant',\n",
       " 'ensure usrs',\n",
       " 'observation also',\n",
       " 'worker inductionsign',\n",
       " 'vehicle equipment',\n",
       " 'vehicle traffic',\n",
       " 'person available',\n",
       " 'room amenitiesbathrooms',\n",
       " 'documentation swms',\n",
       " 'child enterleave',\n",
       " 'condition lifting',\n",
       " 'effectively common',\n",
       " 'winchmounted mooring',\n",
       " 'locomotive rollingstock',\n",
       " 'centre participation',\n",
       " 'example select',\n",
       " 'supplying meal',\n",
       " 'gate grounded',\n",
       " 'involving company',\n",
       " 'mishap prevention',\n",
       " 'operation number',\n",
       " 'ethic determining',\n",
       " 'high risk',\n",
       " 'edge trimmed',\n",
       " 'deck storeroom',\n",
       " 'driver assistantsspotters',\n",
       " 'opords local',\n",
       " 'existing cable',\n",
       " 'içme kurallarına',\n",
       " 'structure vehicle',\n",
       " 'sand water',\n",
       " 'bulk actuator',\n",
       " 'eating service',\n",
       " 'loto procedure',\n",
       " 'work operation',\n",
       " 'must pointed',\n",
       " 'kontrolü local',\n",
       " 'monitor crankcase',\n",
       " 'equipment available',\n",
       " 'cofferdam vessel',\n",
       " 'safe nontoxic',\n",
       " 'proper signal',\n",
       " 'ship handling',\n",
       " 'çalışan etkileşimi',\n",
       " 'member ideally',\n",
       " 'eventually come',\n",
       " 'place check',\n",
       " 'offered anyone',\n",
       " 'pile rubbishdecommissioned',\n",
       " 'within date',\n",
       " 'tool stored',\n",
       " 'pointed customer',\n",
       " 'unit assigned',\n",
       " 'centre event',\n",
       " 'possible existing',\n",
       " 'minimum inch',\n",
       " 'least monthly',\n",
       " 'previous action',\n",
       " 'fire flammable',\n",
       " 'record book',\n",
       " 'volatile fluid',\n",
       " 'cause deficiency',\n",
       " 'constructed nappy',\n",
       " 'treatment chemical',\n",
       " 'date defect',\n",
       " 'procedure established',\n",
       " 'kitchen free',\n",
       " 'metal structure',\n",
       " 'complete hotwork',\n",
       " 'record form',\n",
       " 'role emergency',\n",
       " 'information system',\n",
       " 'excavation worker',\n",
       " 'trace ammonia',\n",
       " 'logistics support',\n",
       " 'change record',\n",
       " 'regular lifting',\n",
       " 'customer addition',\n",
       " 'compressed cylinder',\n",
       " 'carry maintenance',\n",
       " 'fire emergency',\n",
       " 'name phone',\n",
       " 'organization unit',\n",
       " 'precaution slip',\n",
       " 'height ideal',\n",
       " 'checklist care',\n",
       " 'person present',\n",
       " 'information give',\n",
       " 'order engineer',\n",
       " 'behaviour policy',\n",
       " 'manufacture instruction',\n",
       " 'obtain permit',\n",
       " 'program colour',\n",
       " 'kazı dolgu',\n",
       " 'vehicle safety',\n",
       " 'educator family',\n",
       " 'last thing',\n",
       " 'leaflet refer',\n",
       " 'work practice',\n",
       " 'bathed deodorized',\n",
       " 'part operational',\n",
       " 'educational resource',\n",
       " 'conduct document',\n",
       " 'conduct policy',\n",
       " 'positive interaction',\n",
       " 'undertaken light',\n",
       " 'compaction conduit',\n",
       " 'safe handling',\n",
       " 'feeling educator',\n",
       " 'person checked',\n",
       " 'road agreed',\n",
       " 'training provided',\n",
       " 'correct datum',\n",
       " 'debris litter',\n",
       " 'securely fenced',\n",
       " 'equipment system',\n",
       " 'first stubborn',\n",
       " 'testing evaluation',\n",
       " 'special remember',\n",
       " 'spoken duty',\n",
       " 'personnel identify',\n",
       " 'give information',\n",
       " 'care mobile',\n",
       " 'rubbish plant',\n",
       " 'think smart',\n",
       " 'thoroughly retest',\n",
       " 'involving storage',\n",
       " 'statem instruct',\n",
       " 'provision first',\n",
       " 'attachment para',\n",
       " 'least daily',\n",
       " 'window glazing',\n",
       " 'visible time',\n",
       " 'learning environment',\n",
       " 'form railway',\n",
       " 'laundry safely',\n",
       " 'tidy hygienically',\n",
       " 'diğer sıcak',\n",
       " 'check appropriate',\n",
       " 'qualified individual',\n",
       " 'nautical publication',\n",
       " 'seal number',\n",
       " 'easy access',\n",
       " 'water change',\n",
       " 'excursion centre',\n",
       " 'workplace covered',\n",
       " 'phone number',\n",
       " 'note ensure',\n",
       " 'içerik eğitimlerin',\n",
       " 'volunteer student',\n",
       " 'family understand',\n",
       " 'debris tidy',\n",
       " 'sopep plan',\n",
       " 'floodlight dazzle',\n",
       " 'güvenliği heavy',\n",
       " 'main deck',\n",
       " 'explosion toxic',\n",
       " 'wsgs weapon',\n",
       " 'planning activity',\n",
       " 'route agreed',\n",
       " 'dazzle driver',\n",
       " 'lack ofor',\n",
       " 'difficulty access',\n",
       " 'inspection cargo',\n",
       " 'proximity soiled',\n",
       " 'used various',\n",
       " 'sufficient quality',\n",
       " 'demonstrate appreciate',\n",
       " 'master attended',\n",
       " 'site training',\n",
       " 'protection task',\n",
       " 'adequate developmentally',\n",
       " 'evaluation lifesaving',\n",
       " 'base installation',\n",
       " 'ekipman depolama',\n",
       " 'check number',\n",
       " 'special unusual',\n",
       " 'sign located',\n",
       " 'safety personnel',\n",
       " 'safely controlled',\n",
       " 'general condition',\n",
       " 'electrical switchboard',\n",
       " 'changing bench',\n",
       " 'adequate supervision',\n",
       " 'selected making',\n",
       " 'tail good',\n",
       " 'childrens dignity',\n",
       " 'implement action',\n",
       " 'list room',\n",
       " 'crankcase mist',\n",
       " 'main steering',\n",
       " 'cargo transfer',\n",
       " 'maintenance mooring',\n",
       " 'within store',\n",
       " 'event collision',\n",
       " 'vehicle approach',\n",
       " 'dealing infectious',\n",
       " 'system place',\n",
       " 'soap sanitiser',\n",
       " 'edition corrected',\n",
       " 'enable safeuse',\n",
       " 'significant problem',\n",
       " 'development educator',\n",
       " 'number runner',\n",
       " 'including guideline',\n",
       " 'side stepsplatforms',\n",
       " 'procedure applicable',\n",
       " 'cleaned polished',\n",
       " 'consumables paper',\n",
       " 'greetingfarewelling family',\n",
       " 'documented accordance',\n",
       " 'permission given',\n",
       " 'prescribed requirement',\n",
       " 'kaldırma işleri',\n",
       " 'still high',\n",
       " 'inspected park',\n",
       " 'site work',\n",
       " 'operation condition',\n",
       " 'check performed',\n",
       " 'address root',\n",
       " 'position vessel',\n",
       " 'engaged educator',\n",
       " 'visitor including',\n",
       " 'collection child',\n",
       " 'impianto acqua',\n",
       " 'provided policy',\n",
       " 'select checklist',\n",
       " 'soiled item',\n",
       " 'rollingstock check',\n",
       " 'list radio',\n",
       " 'electrode attached',\n",
       " 'requirement documented',\n",
       " 'load exceeded',\n",
       " 'securely fastened',\n",
       " 'kullanımı bertarafı',\n",
       " 'item question',\n",
       " 'reporting policy',\n",
       " 'completing open',\n",
       " 'space galley',\n",
       " 'entry exit',\n",
       " 'unauthorised access',\n",
       " 'water safety',\n",
       " 'plan deployment',\n",
       " 'noktalarına erişim',\n",
       " 'quantity container',\n",
       " 'road test',\n",
       " 'environment well',\n",
       " 'phone answer',\n",
       " 'dignity respected',\n",
       " 'procedure cleaning',\n",
       " 'course wherewhen',\n",
       " 'handling precaution',\n",
       " 'level afrc',\n",
       " 'unannounced alcohol',\n",
       " 'childrens friendship',\n",
       " 'safe zone',\n",
       " 'monthly care',\n",
       " 'safeuse convenient',\n",
       " 'supplier provided',\n",
       " 'respectful conduct',\n",
       " 'para thru',\n",
       " 'unsafe work',\n",
       " 'ventilation louver',\n",
       " 'manager completing',\n",
       " 'tank void',\n",
       " 'winch gear',\n",
       " 'year least',\n",
       " 'shot showing',\n",
       " 'test test',\n",
       " 'battery replaced',\n",
       " 'gangway pilot',\n",
       " 'load required',\n",
       " 'kept appropriate',\n",
       " 'course recording',\n",
       " 'deck access',\n",
       " 'length minor',\n",
       " 'travel ground',\n",
       " 'first aiders',\n",
       " 'workplace accident',\n",
       " 'crane operation',\n",
       " 'free slip',\n",
       " 'express feeling',\n",
       " 'lawnmowers equipment',\n",
       " 'finishing workshop',\n",
       " 'hatch cover',\n",
       " 'covered annually',\n",
       " 'elder deacon',\n",
       " 'management course',\n",
       " 'child express',\n",
       " 'place carry',\n",
       " 'maintained according',\n",
       " 'suitable sufficient',\n",
       " 'protection full',\n",
       " 'communicate effectively',\n",
       " 'shepsmrecordkeeping audit',\n",
       " 'monitoring cargo',\n",
       " 'paragraph core',\n",
       " 'space refrigerated',\n",
       " 'instruction developed',\n",
       " 'sheet available',\n",
       " 'manufacturer specification',\n",
       " 'management arrangement',\n",
       " 'networking policy',\n",
       " 'steel fitting',\n",
       " 'condition building',\n",
       " 'including client',\n",
       " 'semiautomatic hitch',\n",
       " 'container appropriate',\n",
       " 'remote area',\n",
       " 'release adequate',\n",
       " 'facility adult',\n",
       " 'life saving',\n",
       " 'operational condition',\n",
       " 'racs applicable',\n",
       " 'overall base',\n",
       " 'galley pantry',\n",
       " 'nappy changing',\n",
       " 'presenti locale',\n",
       " 'insulation board',\n",
       " 'check information',\n",
       " 'good condition',\n",
       " 'blank ammunition',\n",
       " 'food handling',\n",
       " 'training orientation',\n",
       " 'inspection least',\n",
       " 'information regard',\n",
       " 'swms identify',\n",
       " 'photo include',\n",
       " 'cencon lock',\n",
       " 'kayma takılma',\n",
       " 'uncontrolled entry',\n",
       " 'attract spiderssnakes',\n",
       " 'renwick hand',\n",
       " 'servicing maintenance',\n",
       " 'olanakları access',\n",
       " 'malzeme ekipman',\n",
       " 'line throwing',\n",
       " 'need basis',\n",
       " 'clear equipment',\n",
       " 'facility enable',\n",
       " 'number responsible',\n",
       " 'periodic item',\n",
       " 'tenant unit',\n",
       " 'correctly regarding',\n",
       " 'area desk',\n",
       " 'equipment person',\n",
       " 'required complete',\n",
       " 'ekip ambarı',\n",
       " 'ageappropriate toilet',\n",
       " 'pantry clean',\n",
       " 'depolaması taşınması',\n",
       " 'required prevent',\n",
       " 'saatleri haftalık',\n",
       " 'cleansing facility',\n",
       " 'meal policy',\n",
       " 'uncluttered refreshment',\n",
       " 'setting conducting',\n",
       " 'signage danger',\n",
       " 'pump full',\n",
       " 'grade type',\n",
       " 'registration hazardous',\n",
       " 'operation specific',\n",
       " 'secure signage',\n",
       " 'site minimal',\n",
       " 'cover closing',\n",
       " 'language record',\n",
       " 'edcis meet',\n",
       " 'lighting adequate',\n",
       " 'chemical composition',\n",
       " 'usage extension',\n",
       " 'egress point',\n",
       " 'çalışma saatleri',\n",
       " 'extended period',\n",
       " 'procedure conducted',\n",
       " 'neatly presented',\n",
       " 'smoking rule',\n",
       " 'annually core',\n",
       " 'philosophy displayed',\n",
       " 'tidy good',\n",
       " 'link access',\n",
       " 'electroexplosive device',\n",
       " 'hygienic facility',\n",
       " 'glazing cleaned',\n",
       " 'guarding renwick',\n",
       " 'refrigerated space',\n",
       " 'storage handling',\n",
       " 'test date',\n",
       " 'worker task',\n",
       " 'chemical purchased',\n",
       " 'changeover procedure',\n",
       " 'written emergency',\n",
       " 'mooring line',\n",
       " 'long grass',\n",
       " 'excess must',\n",
       " 'lowest risk',\n",
       " 'proximity obstacle',\n",
       " 'unit para',\n",
       " 'electronic chart',\n",
       " 'wire rope',\n",
       " 'work area',\n",
       " 'review munitionsrelated',\n",
       " 'fuel flammables',\n",
       " 'snagged item',\n",
       " 'work designed',\n",
       " 'pilot hoist',\n",
       " 'identify hotwork',\n",
       " 'safety installation',\n",
       " 'point customer',\n",
       " 'inform leadership',\n",
       " 'evacuation including',\n",
       " 'site registration',\n",
       " 'general hygiene',\n",
       " 'incident involving',\n",
       " 'current device',\n",
       " 'explosive core',\n",
       " 'comfortable relaxed',\n",
       " 'hygiene acceptable',\n",
       " 'training manual',\n",
       " 'unit activity',\n",
       " 'walkie talkie',\n",
       " 'blind spot',\n",
       " 'number person',\n",
       " 'include organization',\n",
       " 'regular interval',\n",
       " 'slip trip',\n",
       " 'unattended vehicle',\n",
       " 'displayed foyer',\n",
       " 'flammable material',\n",
       " 'microwave oven',\n",
       " 'fire explosion',\n",
       " 'open shepsmrecordkeeping',\n",
       " 'reviewed well',\n",
       " 'path free',\n",
       " 'obstruction sufficiently',\n",
       " 'nesneler sharp',\n",
       " 'assigned squadron',\n",
       " 'first provision',\n",
       " 'appropriate followup',\n",
       " 'external window',\n",
       " 'konuşmaları içerik',\n",
       " 'community within',\n",
       " 'parking contractor',\n",
       " 'collision grounding',\n",
       " 'testing tagging',\n",
       " 'secured fencingdepot',\n",
       " 'toxic detection',\n",
       " 'include corrective',\n",
       " 'side maneuvering',\n",
       " 'involving blank',\n",
       " 'space trunk',\n",
       " 'hitch safety',\n",
       " 'respected access',\n",
       " 'testing inspection',\n",
       " 'yeterliliği housekeeping',\n",
       " 'code includes',\n",
       " 'drying facility',\n",
       " 'customer offering',\n",
       " 'peeled carefully',\n",
       " 'walkway free',\n",
       " 'appropriate hygienic',\n",
       " 'available close',\n",
       " 'student placement',\n",
       " 'activity work',\n",
       " 'staff developed',\n",
       " 'tail fitted',\n",
       " 'first book',\n",
       " 'front berthing',\n",
       " 'insurance answer',\n",
       " 'applicable cause',\n",
       " 'procedure additional',\n",
       " 'well clearly',\n",
       " 'engineering operational',\n",
       " 'file information',\n",
       " 'tüpleri depolaması',\n",
       " 'hvac atölyesi',\n",
       " 'locker hose',\n",
       " 'andor high',\n",
       " 'adhered positive',\n",
       " 'instruction procedure',\n",
       " 'table reception',\n",
       " 'large fracture',\n",
       " 'council also',\n",
       " 'mist detector',\n",
       " 'shower bath',\n",
       " 'line secured',\n",
       " 'provided activity',\n",
       " 'hygienically satisfactory',\n",
       " 'signal used',\n",
       " 'load lifted',\n",
       " 'requirement engineering',\n",
       " 'mishap response',\n",
       " 'ofor inadequate',\n",
       " 'table safety',\n",
       " 'number condition',\n",
       " 'assessment risk',\n",
       " 'system established',\n",
       " 'root cause',\n",
       " 'within centre',\n",
       " 'nappy cream',\n",
       " 'electromagnetic radiation',\n",
       " 'person andor',\n",
       " 'front leaflet',\n",
       " 'surface including',\n",
       " 'vapor release',\n",
       " 'provision provided',\n",
       " 'checked least',\n",
       " 'task safe',\n",
       " 'frequency unannounced',\n",
       " 'ensure appropriate',\n",
       " 'fitted appropriate',\n",
       " 'damaged plantequipment',\n",
       " 'completed wherever',\n",
       " 'measure place',\n",
       " 'adequate appropriate',\n",
       " 'water course',\n",
       " 'question multiple',\n",
       " 'heavy load',\n",
       " 'çalışmalar working',\n",
       " 'test plan',\n",
       " 'pine bark',\n",
       " 'light fitting',\n",
       " 'number first',\n",
       " 'colleague know',\n",
       " 'free debris',\n",
       " 'donanımlarının durumu',\n",
       " 'council required',\n",
       " 'oxygen acetylene',\n",
       " 'towel room',\n",
       " 'safety requirement',\n",
       " 'koruyucuları makine',\n",
       " 'include photo',\n",
       " 'yangın önlemleri',\n",
       " 'policy adhered',\n",
       " 'international code',\n",
       " 'procedure display',\n",
       " 'showing location',\n",
       " 'railway infrastructure',\n",
       " 'adult available',\n",
       " 'know else',\n",
       " 'qualified safety',\n",
       " 'throwing apparatus',\n",
       " 'uyum following',\n",
       " 'infrastructure bridge',\n",
       " 'sign cleaned',\n",
       " 'unsuitable inadequate',\n",
       " 'childrens social',\n",
       " 'risk product',\n",
       " 'signalman flagmen',\n",
       " 'since last',\n",
       " 'maintenance issue',\n",
       " 'replant cover',\n",
       " 'leave information',\n",
       " 'park ground',\n",
       " 'lobby inner',\n",
       " 'developed mishap',\n",
       " 'grain code',\n",
       " 'door opening',\n",
       " 'link adequate',\n",
       " 'sufficient spare',\n",
       " 'chemical high',\n",
       " 'personnel able',\n",
       " 'room appropriate',\n",
       " 'onboard carry',\n",
       " 'place adequate',\n",
       " 'rope synthetic',\n",
       " 'desk neatly',\n",
       " 'representative inducted',\n",
       " 'issue associated',\n",
       " 'shipspecific lifesaving',\n",
       " 'conducted documented',\n",
       " 'intention using',\n",
       " 'failure obtain',\n",
       " 'laid correctly',\n",
       " 'operating near',\n",
       " 'risking injury',\n",
       " 'poor point',\n",
       " 'need educator',\n",
       " 'process place',\n",
       " 'sanitary area',\n",
       " 'undertaken young',\n",
       " 'particular deck',\n",
       " 'initial test',\n",
       " 'inspected date',\n",
       " 'relevant wall',\n",
       " 'adjustment centre',\n",
       " 'centre philosophy',\n",
       " 'fern reanchor',\n",
       " 'affect weapon',\n",
       " 'type protection',\n",
       " 'statement prepared',\n",
       " 'removed cencon',\n",
       " 'material subordinate',\n",
       " 'site first',\n",
       " 'rinse test',\n",
       " 'damage equipment',\n",
       " 'işlerinin yapılması',\n",
       " 'defect snag',\n",
       " 'free slippery',\n",
       " 'program provides',\n",
       " 'hazard noted',\n",
       " 'number seal',\n",
       " 'centre centre',\n",
       " 'ensure workplace',\n",
       " 'electrical lead',\n",
       " 'procedure place',\n",
       " 'zone laid',\n",
       " 'production location',\n",
       " 'date untested',\n",
       " 'focus complex',\n",
       " 'rectification date',\n",
       " 'located designated',\n",
       " 'manual steering',\n",
       " 'welcoming reception',\n",
       " 'transfer possession',\n",
       " 'shout heard',\n",
       " 'saha çalışmaları',\n",
       " 'vinçle kaldırma',\n",
       " 'error testing',\n",
       " 'waterteacoffee available',\n",
       " 'bridge team',\n",
       " 'attention work',\n",
       " 'cargo carried',\n",
       " 'site vehicular',\n",
       " 'maximum level',\n",
       " 'fitted wire',\n",
       " 'local directive',\n",
       " 'info sheet',\n",
       " 'response planning',\n",
       " 'otherwise protected',\n",
       " 'facility provided',\n",
       " 'initial annual',\n",
       " 'inspector name',\n",
       " 'material number',\n",
       " 'smart field',\n",
       " 'distance noise',\n",
       " 'responsible defect',\n",
       " 'work load',\n",
       " 'room lobby',\n",
       " 'vehicle history',\n",
       " 'international grain',\n",
       " 'procedure reporting',\n",
       " 'responsibility ensure',\n",
       " 'kayıtların tutulması',\n",
       " 'ekipmanı stoğu',\n",
       " 'displayed unchecked',\n",
       " 'thing scale',\n",
       " 'trip fall',\n",
       " 'environmental condition',\n",
       " 'eğitimlerin verilmesi',\n",
       " 'disconnect switch',\n",
       " 'washed dried',\n",
       " 'review progress',\n",
       " 'regularly damage',\n",
       " 'protruded object',\n",
       " 'verzekerde niet',\n",
       " 'gear motor',\n",
       " 'leaf could',\n",
       " 'investigation closeout',\n",
       " 'bridge lookout',\n",
       " 'cover case',\n",
       " 'care routine',\n",
       " 'hard surface',\n",
       " 'supervisor conduct',\n",
       " 'understand childrens',\n",
       " 'grain bulk',\n",
       " 'material volatile',\n",
       " 'document spot',\n",
       " 'operator instruction',\n",
       " 'fitted engine',\n",
       " 'storage tank',\n",
       " 'ensure baby',\n",
       " 'free sharp',\n",
       " 'bathroom store',\n",
       " 'unsecured allowing',\n",
       " 'durumu sapan',\n",
       " 'organization office',\n",
       " 'take pertinent',\n",
       " 'know role',\n",
       " 'checkout risking',\n",
       " 'work together',\n",
       " 'reviewed every',\n",
       " 'recent operator',\n",
       " 'emergency evacuation',\n",
       " 'room care',\n",
       " 'orderacross team',\n",
       " 'bottle soaking',\n",
       " 'company owned',\n",
       " 'limitation blind',\n",
       " 'confirm spoken',\n",
       " 'mess room',\n",
       " 'ammonia test',\n",
       " 'merdiven kullanımı',\n",
       " 'reoccurrence implement',\n",
       " 'social networking',\n",
       " 'available ensure',\n",
       " 'room corrective',\n",
       " 'adequate stock',\n",
       " 'pilot ladder',\n",
       " 'definitely wear',\n",
       " 'equipment processesprocedures',\n",
       " 'snake could',\n",
       " 'durumu general',\n",
       " 'participation volunteer',\n",
       " 'hard stuff',\n",
       " 'gravel alone',\n",
       " 'current safety',\n",
       " 'hazard well',\n",
       " 'trimmed maintained',\n",
       " 'processesprocedures reviewed',\n",
       " 'vehicle travel',\n",
       " 'ordnance hero',\n",
       " 'kaynak kesme',\n",
       " 'outdoor playground',\n",
       " 'contractor vehicle',\n",
       " 'nontoxic sharp',\n",
       " 'senior deck',\n",
       " 'convenient access',\n",
       " 'chemalert program',\n",
       " 'access child',\n",
       " 'spiderssnakes pine',\n",
       " 'verification form',\n",
       " 'plan oplans',\n",
       " 'maintenance hatch',\n",
       " 'salt added',\n",
       " 'customer centre',\n",
       " 'friendship nurture',\n",
       " 'unsafe damaged',\n",
       " 'risk management',\n",
       " 'removal company',\n",
       " 'officer familiar',\n",
       " 'handling course',\n",
       " 'child wear',\n",
       " 'addressing discipline',\n",
       " 'operational system',\n",
       " 'purchasing monthly',\n",
       " 'preexisting plant',\n",
       " 'fully without',\n",
       " 'wsgs spot',\n",
       " 'incident nonconformity',\n",
       " 'centre encourage',\n",
       " 'trunk cofferdam',\n",
       " 'display information',\n",
       " 'safety responsibility',\n",
       " 'kablolarının kullanımı',\n",
       " 'welding equipment',\n",
       " 'weapon responsibility',\n",
       " 'requirement select',\n",
       " 'fall arrest',\n",
       " 'talkie hand',\n",
       " 'applicable place',\n",
       " 'work point',\n",
       " 'system edcis',\n",
       " 'ladder usage',\n",
       " 'family child',\n",
       " 'employee eligibility',\n",
       " 'point foyer',\n",
       " 'documented approved',\n",
       " 'swept washed',\n",
       " 'team room',\n",
       " 'kimyasalların kullanımı',\n",
       " 'lifting heavy',\n",
       " 'plant child',\n",
       " 'roster site',\n",
       " 'heavy work',\n",
       " 'grounding fire',\n",
       " 'elektriksiz çalışmalar',\n",
       " 'identify hazard',\n",
       " 'encourage child',\n",
       " 'staff provide',\n",
       " 'appreciate child',\n",
       " 'walkthrough room',\n",
       " 'storeroom clean',\n",
       " 'correctly avoid',\n",
       " 'reading still',\n",
       " 'maintained control',\n",
       " 'supported housed',\n",
       " 'would apprehensive',\n",
       " 'condition cover',\n",
       " 'prevention measure',\n",
       " 'description area',\n",
       " 'önlemleri working',\n",
       " 'last meeting',\n",
       " 'notice list',\n",
       " 'including name',\n",
       " 'housekeeping sufficiency',\n",
       " ...]"
      ]
     },
     "execution_count": 271,
     "metadata": {},
     "output_type": "execute_result"
    }
   ],
   "source": [
    "\n",
    "correlated_features"
   ]
  },
  {
   "cell_type": "markdown",
   "metadata": {},
   "source": [
    "#### 3-4) Sample output<a name=\"3.4\"></a>\n",
    "\n",
    "##### From the above, if we select any one feature of interest for example = \"inspection cargo\" \n",
    "##### and below step presents how \"inspection cargo\" is impacted with other features which tells us to caution customer "
   ]
  },
  {
   "cell_type": "code",
   "execution_count": 452,
   "metadata": {},
   "outputs": [
    {
     "name": "stdout",
     "output_type": "stream",
     "text": [
      "--- Potential risks related to sample_feature='inspection cargo' are below --- \n",
      "\n",
      " ['carry regular', 'cofferdam vessel', 'inspection cargo', 'personnel record', 'place carry', 'procedure place', 'record maintained', 'regular inspection', 'space trunk', 'tank void', 'trunk cofferdam', 'vessel personnel', 'void space']\n"
     ]
    }
   ],
   "source": [
    "sample_feature='inspection cargo'\n",
    "\n",
    "\n",
    "corr_df= abs(correlation_matrix)\n",
    "corr_df = corr_df[corr_df[sample_feature] > 0.95][[sample_feature]]\n",
    "\n",
    "print(\"--- Potential risks related to sample_feature='{}' are below --- \\n\\n {}\".format(sample_feature,corr_df.index.tolist()))"
   ]
  },
  {
   "cell_type": "markdown",
   "metadata": {},
   "source": [
    "#### Q3- conclusion: Above steps helps us to identify potential risks involved for individual inspection item"
   ]
  }
 ],
 "metadata": {
  "kernelspec": {
   "display_name": "Python 3",
   "language": "python",
   "name": "python3"
  },
  "language_info": {
   "codemirror_mode": {
    "name": "ipython",
    "version": 3
   },
   "file_extension": ".py",
   "mimetype": "text/x-python",
   "name": "python",
   "nbconvert_exporter": "python",
   "pygments_lexer": "ipython3",
   "version": "3.6.10"
  }
 },
 "nbformat": 4,
 "nbformat_minor": 4
}
